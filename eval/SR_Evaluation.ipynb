{
 "cells": [
  {
   "cell_type": "code",
   "execution_count": 3,
   "metadata": {},
   "outputs": [],
   "source": [
    "import torch\n",
    "import glob as gb\n",
    "import numpy as np\n",
    "from PIL import Image\n",
    "import os\n",
    "import random\n",
    "import torch.nn as nn\n",
    "import pandas as pd \n",
    "import glob as gb\n",
    "\n",
    "import torchvision.transforms as transforms\n",
    "import torch.backends.cudnn as cudnn\n",
    "\n",
    "from skimage.metrics import peak_signal_noise_ratio as psnr\n",
    "from skimage.metrics import structural_similarity as ssim\n",
    "\n",
    "#from skimage.measure import compare_psnr as psnr\n",
    "#from skimage.measure import compare_ssim as ssim\n",
    "\n",
    "os.sys.path.append('../')\n",
    "from utils.loss import cos_sim\n",
    "\n",
    "random.seed(1)\n",
    "np.random.seed(1)"
   ]
  },
  {
   "cell_type": "code",
   "execution_count": 6,
   "metadata": {},
   "outputs": [],
   "source": [
    "# SR Model Initialization\n",
    "\n",
    "GPU_IN_USE = torch.cuda.is_available()\n",
    "\n",
    "if GPU_IN_USE:\n",
    "    cudnn.benchmark = True\n",
    "    \n",
    "device = torch.device('cuda' if GPU_IN_USE else 'cpu')"
   ]
  },
  {
   "cell_type": "code",
   "execution_count": 16,
   "metadata": {},
   "outputs": [],
   "source": [
    "# Testing upsampling via SR\n",
    "class SuperResolveDL:\n",
    "    def __init__(self, model, size, channel, resize=True):\n",
    "        self.model = model\n",
    "        self.size = size\n",
    "        self.channel = channel\n",
    "        self.resize = resize\n",
    "        \n",
    "    def __call__(self, path=''):\n",
    "        if self.channel == 1:\n",
    "            img = Image.open(path).convert('YCbCr').resize((self.size,self.size),resample=Image.BICUBIC)\n",
    "            upsample, cb, cr = img.split()\n",
    "            if not self.resize:\n",
    "                upsample, _, _ = Image.open(path).convert('YCbCr').split()\n",
    "        elif self.channel == 3:\n",
    "            if self.resize: \n",
    "                upsample = Image.open(path).convert('RGB').resize((self.size,self.size),resample=Image.BICUBIC)\n",
    "            else:\n",
    "                upsample = Image.open(path).convert('RGB')\n",
    "        else:\n",
    "            raise Exception('Channel option not listed')\n",
    "        \n",
    "        data = (transforms.ToTensor()(upsample)).view(1, self.channel, upsample.size[1], upsample.size[0])\n",
    "        data = data.to(device)\n",
    "        out = self.model(data)\n",
    "        out = out.cpu()\n",
    "        out_img = out.data[0].numpy()\n",
    "        out_img *= 255.0\n",
    "        out_img = out_img.clip(0, 255)\n",
    "                \n",
    "        if self.channel == 1:\n",
    "            out_img = Image.fromarray(np.uint8(out_img[0]), mode='L')\n",
    "            out_img = Image.merge('YCbCr', [out_img, cb, cr]).convert('RGB')\n",
    "        \n",
    "        if self.channel == 3:\n",
    "            out_img = out_img.transpose((1,2,0))\n",
    "            out_img = Image.fromarray(np.uint8(out_img), mode='RGB')\n",
    "\n",
    "        return out_img\n",
    "    \n",
    "    \n",
    "# Testing upsampling via Bicubic\n",
    "\n",
    "def load_image(path='', size=224, resize=True): # Bicubic\n",
    "    img = Image.open(path)\n",
    "    if resize:\n",
    "        img = img.resize((size,size), resample=Image.BICUBIC)\n",
    "    return img"
   ]
  },
  {
   "cell_type": "code",
   "execution_count": 7,
   "metadata": {},
   "outputs": [],
   "source": [
    "real_img_path = '/media/angelo/DATEN/Datasets/CelebA/HR/test/'\n",
    "real_imgs = gb.glob(real_img_path + '*.jpg')\n",
    "\n",
    "upx2_img_path = '/media/angelo/DATEN/Datasets/CelebA/LR_112/test/'\n",
    "upx2_imgs = gb.glob(upx2_img_path + '*.jpg')\n",
    "\n",
    "upx4_img_path = '/media/angelo/DATEN/Datasets/CelebA/LR_56/test/'\n",
    "upx4_imgs = gb.glob(upx4_img_path + '*.jpg')"
   ]
  },
  {
   "cell_type": "markdown",
   "metadata": {},
   "source": [
    "## Task 1 - Upsample x4"
   ]
  },
  {
   "cell_type": "code",
   "execution_count": 5,
   "metadata": {},
   "outputs": [],
   "source": [
    "# SubCNN \n",
    "model_1_path = '../models/SubCNN_coord_x4_epoch_50.pth'\n",
    "model_1 = torch.load(model_1_path, map_location=lambda storage, loc: storage.cuda(0))\n",
    "model_1 = model_1.to(device)\n",
    "\n",
    "load_SR = SuperResolveDL(model_1, size=224, channel=1, resize=False)"
   ]
  },
  {
   "cell_type": "code",
   "execution_count": 6,
   "metadata": {},
   "outputs": [
    {
     "name": "stdout",
     "output_type": "stream",
     "text": [
      "Average Bicubic PSNR 27.93\n",
      "Average SR Model PSNR 28.13\n",
      "Average Bicubic SSIM 0.79\n",
      "Average SR Model SSIM 0.80\n"
     ]
    }
   ],
   "source": [
    "bicubic_psnr = 0\n",
    "SR_psnr = 0\n",
    "bicubic_ssim = 0\n",
    "SR_ssim = 0\n",
    "\n",
    "for index in range(len(real_imgs)):\n",
    "    \n",
    "    bicubic = np.array(load_image(upx4_imgs[index], size=224, resize=True))\n",
    "    SR_img = np.array(load_SR(upx4_imgs[index]))\n",
    "    real_img = np.array(load_image(real_imgs[index], resize=False))\n",
    "    \n",
    "    bicubic_psnr += psnr(bicubic, real_img)\n",
    "    SR_psnr += psnr(SR_img, real_img)\n",
    "    \n",
    "    bicubic_ssim += ssim(bicubic, real_img, multichannel=True)\n",
    "    SR_ssim += ssim(SR_img, real_img, multichannel=True)\n",
    "    \n",
    "    #print('Bicubic PSNR {0:.2f}'.format(bicubic_psnr))\n",
    "    #print('SR Model PSNR {0:.2f}'.format(SR_psnr))\n",
    "    #print('Bicubic SSIM {0:.2f}'.format(bicubic_ssim))\n",
    "    #print('SR Model SSIM {0:.2f}'.format(SR_ssim))\n",
    "    \n",
    "print('Average Bicubic PSNR {0:.2f}'.format(bicubic_psnr/len(real_imgs)))\n",
    "print('Average SR Model PSNR {0:.2f}'.format(SR_psnr/len(real_imgs)))\n",
    "print('Average Bicubic SSIM {0:.2f}'.format(bicubic_ssim/len(real_imgs)))\n",
    "print('Average SR Model SSIM {0:.2f}'.format(SR_ssim/len(real_imgs)))    "
   ]
  },
  {
   "cell_type": "markdown",
   "metadata": {},
   "source": [
    "### SRCNN Coord"
   ]
  },
  {
   "cell_type": "code",
   "execution_count": 7,
   "metadata": {},
   "outputs": [],
   "source": [
    "model_2_path = '../models/SRCNN_coord_x4_epoch_50.pth'\n",
    "model_2 = torch.load(model_2_path, map_location=lambda storage, loc: storage.cuda(0))\n",
    "model_2 = model_2.to(device)\n",
    "\n",
    "load_SR = SuperResolveDL(model_2, size=224, channel=1, resize=True)"
   ]
  },
  {
   "cell_type": "code",
   "execution_count": 8,
   "metadata": {},
   "outputs": [
    {
     "name": "stdout",
     "output_type": "stream",
     "text": [
      "Average Bicubic PSNR 27.93\n",
      "Average SR Model PSNR 27.98\n",
      "Average Bicubic SSIM 0.79\n",
      "Average SR Model SSIM 0.80\n"
     ]
    }
   ],
   "source": [
    "bicubic_psnr = 0\n",
    "SR_psnr = 0\n",
    "bicubic_ssim = 0\n",
    "SR_ssim = 0\n",
    "\n",
    "for index in range(len(real_imgs)):\n",
    "    \n",
    "    bicubic = np.array(load_image(upx4_imgs[index], size=224, resize=True))\n",
    "    SR_img = np.array(load_SR(upx4_imgs[index]))\n",
    "    real_img = np.array(load_image(real_imgs[index], resize=False))\n",
    "    \n",
    "    bicubic_psnr += psnr(bicubic, real_img)\n",
    "    SR_psnr += psnr(SR_img, real_img)\n",
    "    \n",
    "    bicubic_ssim += ssim(bicubic, real_img, multichannel=True)\n",
    "    SR_ssim += ssim(SR_img, real_img, multichannel=True)\n",
    "    \n",
    "    #print('Bicubic PSNR {0:.2f}'.format(bicubic_psnr))\n",
    "    #print('SR Model PSNR {0:.2f}'.format(SR_psnr))\n",
    "    #print('Bicubic SSIM {0:.2f}'.format(bicubic_ssim))\n",
    "    #print('SR Model SSIM {0:.2f}'.format(SR_ssim))\n",
    "    \n",
    "print('Average Bicubic PSNR {0:.2f}'.format(bicubic_psnr/len(real_imgs)))\n",
    "print('Average SR Model PSNR {0:.2f}'.format(SR_psnr/len(real_imgs)))\n",
    "print('Average Bicubic SSIM {0:.2f}'.format(bicubic_ssim/len(real_imgs)))\n",
    "print('Average SR Model SSIM {0:.2f}'.format(SR_ssim/len(real_imgs)))    "
   ]
  },
  {
   "cell_type": "markdown",
   "metadata": {},
   "source": [
    "### SRCNN Vanilla"
   ]
  },
  {
   "cell_type": "code",
   "execution_count": 9,
   "metadata": {},
   "outputs": [],
   "source": [
    "model_3_path = '../models/SRCNN_x4_epoch_50.pth'\n",
    "model_3 = torch.load(model_3_path, map_location=lambda storage, loc: storage.cuda(0))\n",
    "model_3 = model_3.to(device)\n",
    "\n",
    "load_SR = SuperResolveDL(model_3, size=224, channel=1, resize=True)"
   ]
  },
  {
   "cell_type": "code",
   "execution_count": 10,
   "metadata": {},
   "outputs": [
    {
     "name": "stdout",
     "output_type": "stream",
     "text": [
      "Average Bicubic PSNR 27.93\n",
      "Average SR Model PSNR 27.95\n",
      "Average Bicubic SSIM 0.79\n",
      "Average SR Model SSIM 0.80\n"
     ]
    }
   ],
   "source": [
    "bicubic_psnr = 0\n",
    "SR_psnr = 0\n",
    "bicubic_ssim = 0\n",
    "SR_ssim = 0\n",
    "\n",
    "for index in range(len(real_imgs)):\n",
    "    \n",
    "    bicubic = np.array(load_image(upx4_imgs[index], size=224, resize=True))\n",
    "    SR_img = np.array(load_SR(upx4_imgs[index]))\n",
    "    real_img = np.array(load_image(real_imgs[index], resize=False))\n",
    "    \n",
    "    bicubic_psnr += psnr(bicubic, real_img)\n",
    "    SR_psnr += psnr(SR_img, real_img)\n",
    "    \n",
    "    bicubic_ssim += ssim(bicubic, real_img, multichannel=True)\n",
    "    SR_ssim += ssim(SR_img, real_img, multichannel=True)\n",
    "    \n",
    "    #print('Bicubic PSNR {0:.2f}'.format(bicubic_psnr))\n",
    "    #print('SR Model PSNR {0:.2f}'.format(SR_psnr))\n",
    "    #print('Bicubic SSIM {0:.2f}'.format(bicubic_ssim))\n",
    "    #print('SR Model SSIM {0:.2f}'.format(SR_ssim))\n",
    "    \n",
    "print('Average Bicubic PSNR {0:.2f}'.format(bicubic_psnr/len(real_imgs)))\n",
    "print('Average SR Model PSNR {0:.2f}'.format(SR_psnr/len(real_imgs)))\n",
    "print('Average Bicubic SSIM {0:.2f}'.format(bicubic_ssim/len(real_imgs)))\n",
    "print('Average SR Model SSIM {0:.2f}'.format(SR_ssim/len(real_imgs)))    "
   ]
  },
  {
   "cell_type": "markdown",
   "metadata": {},
   "source": [
    "### SubCNN Vanilla"
   ]
  },
  {
   "cell_type": "code",
   "execution_count": 17,
   "metadata": {},
   "outputs": [],
   "source": [
    "model_4_path = '../models/SubCNN_x4_epoch_50.pth'\n",
    "model_4 = torch.load(model_4_path, map_location=lambda storage, loc: storage.cuda(0))\n",
    "model_4 = model_4.to(device)\n",
    "\n",
    "load_SR = SuperResolveDL(model_4, size=224, channel=1, resize=False)"
   ]
  },
  {
   "cell_type": "code",
   "execution_count": 14,
   "metadata": {},
   "outputs": [
    {
     "name": "stdout",
     "output_type": "stream",
     "text": [
      "Average Bicubic PSNR 27.93\n",
      "Average SR Model PSNR 28.08\n",
      "Average Bicubic SSIM 0.79\n",
      "Average SR Model SSIM 0.80\n"
     ]
    }
   ],
   "source": [
    "bicubic_psnr = 0\n",
    "SR_psnr = 0\n",
    "bicubic_ssim = 0\n",
    "SR_ssim = 0\n",
    "\n",
    "for index in range(len(real_imgs)):\n",
    "    \n",
    "    bicubic = np.array(load_image(upx4_imgs[index], size=224, resize=True))\n",
    "    SR_img = np.array(load_SR(upx4_imgs[index]))\n",
    "    real_img = np.array(load_image(real_imgs[index], resize=False))\n",
    "    \n",
    "    bicubic_psnr += psnr(bicubic, real_img)\n",
    "    SR_psnr += psnr(SR_img, real_img)\n",
    "    \n",
    "    bicubic_ssim += ssim(bicubic, real_img, multichannel=True)\n",
    "    SR_ssim += ssim(SR_img, real_img, multichannel=True)\n",
    "    \n",
    "    #print('Bicubic PSNR {0:.2f}'.format(bicubic_psnr))\n",
    "    #print('SR Model PSNR {0:.2f}'.format(SR_psnr))\n",
    "    #print('Bicubic SSIM {0:.2f}'.format(bicubic_ssim))\n",
    "    #print('SR Model SSIM {0:.2f}'.format(SR_ssim))\n",
    "    \n",
    "print('Average Bicubic PSNR {0:.2f}'.format(bicubic_psnr/len(real_imgs)))\n",
    "print('Average SR Model PSNR {0:.2f}'.format(SR_psnr/len(real_imgs)))\n",
    "print('Average Bicubic SSIM {0:.2f}'.format(bicubic_ssim/len(real_imgs)))\n",
    "print('Average SR Model SSIM {0:.2f}'.format(SR_ssim/len(real_imgs)))    "
   ]
  },
  {
   "cell_type": "markdown",
   "metadata": {},
   "source": [
    "### SRCNN Face Loss"
   ]
  },
  {
   "cell_type": "code",
   "execution_count": 18,
   "metadata": {},
   "outputs": [],
   "source": [
    "model_5_path = '../models/SRCNN_Loss_x4_epoch_20.pth'\n",
    "model_5 = torch.load(model_5_path, map_location=lambda storage, loc: storage.cuda(0))\n",
    "model_5 = model_5.to(device)\n",
    "\n",
    "load_SR = SuperResolveDL(model_5, size=224, channel=3, resize=True)"
   ]
  },
  {
   "cell_type": "code",
   "execution_count": 19,
   "metadata": {},
   "outputs": [
    {
     "name": "stdout",
     "output_type": "stream",
     "text": [
      "Average Bicubic PSNR 27.93\n",
      "Average SR Model PSNR 24.75\n",
      "Average Bicubic SSIM 0.79\n",
      "Average SR Model SSIM 0.77\n"
     ]
    }
   ],
   "source": [
    "bicubic_psnr = 0\n",
    "SR_psnr = 0\n",
    "bicubic_ssim = 0\n",
    "SR_ssim = 0\n",
    "\n",
    "for index in range(len(real_imgs)):\n",
    "    \n",
    "    bicubic = np.array(load_image(upx4_imgs[index], size=224, resize=True))\n",
    "    SR_img = np.array(load_SR(upx4_imgs[index]))\n",
    "    real_img = np.array(load_image(real_imgs[index], resize=False))\n",
    "    \n",
    "    bicubic_psnr += psnr(bicubic, real_img)\n",
    "    SR_psnr += psnr(SR_img, real_img)\n",
    "    \n",
    "    bicubic_ssim += ssim(bicubic, real_img, multichannel=True)\n",
    "    SR_ssim += ssim(SR_img, real_img, multichannel=True)\n",
    "    \n",
    "    #print('Bicubic PSNR {0:.2f}'.format(bicubic_psnr))\n",
    "    #print('SR Model PSNR {0:.2f}'.format(SR_psnr))\n",
    "    #print('Bicubic SSIM {0:.2f}'.format(bicubic_ssim))\n",
    "    #print('SR Model SSIM {0:.2f}'.format(SR_ssim))\n",
    "    \n",
    "print('Average Bicubic PSNR {0:.2f}'.format(bicubic_psnr/len(real_imgs)))\n",
    "print('Average SR Model PSNR {0:.2f}'.format(SR_psnr/len(real_imgs)))\n",
    "print('Average Bicubic SSIM {0:.2f}'.format(bicubic_ssim/len(real_imgs)))\n",
    "print('Average SR Model SSIM {0:.2f}'.format(SR_ssim/len(real_imgs)))    "
   ]
  },
  {
   "cell_type": "markdown",
   "metadata": {},
   "source": [
    "## Task 2 - Upsample x2"
   ]
  },
  {
   "cell_type": "markdown",
   "metadata": {},
   "source": [
    "### SubCNN Coord"
   ]
  },
  {
   "cell_type": "code",
   "execution_count": 17,
   "metadata": {},
   "outputs": [],
   "source": [
    "# SubCNN \n",
    "model_1_path = '../models/SubCNN_coord_x2_epoch_50.pth'\n",
    "model_1 = torch.load(model_1_path, map_location=lambda storage, loc: storage.cuda(0))\n",
    "model_1 = model_1.to(device)\n",
    "\n",
    "load_SR = SuperResolveDL(model_1, size=224, channel=1, resize=False)"
   ]
  },
  {
   "cell_type": "code",
   "execution_count": 18,
   "metadata": {},
   "outputs": [
    {
     "name": "stdout",
     "output_type": "stream",
     "text": [
      "Average Bicubic PSNR 32.44\n",
      "Average SR Model PSNR 32.03\n",
      "Average Bicubic SSIM 0.89\n",
      "Average SR Model SSIM 0.89\n"
     ]
    }
   ],
   "source": [
    "bicubic_psnr = 0\n",
    "SR_psnr = 0\n",
    "bicubic_ssim = 0\n",
    "SR_ssim = 0\n",
    "\n",
    "for index in range(len(real_imgs)):\n",
    "    \n",
    "    bicubic = np.array(load_image(upx2_imgs[index], size=224, resize=True))\n",
    "    SR_img = np.array(load_SR(upx2_imgs[index]))\n",
    "    real_img = np.array(load_image(real_imgs[index], resize=False))\n",
    "    \n",
    "    bicubic_psnr += psnr(bicubic, real_img)\n",
    "    SR_psnr += psnr(SR_img, real_img)\n",
    "    \n",
    "    bicubic_ssim += ssim(bicubic, real_img, multichannel=True)\n",
    "    SR_ssim += ssim(SR_img, real_img, multichannel=True)\n",
    "    \n",
    "    #print('Bicubic PSNR {0:.2f}'.format(bicubic_psnr))\n",
    "    #print('SR Model PSNR {0:.2f}'.format(SR_psnr))\n",
    "    #print('Bicubic SSIM {0:.2f}'.format(bicubic_ssim))\n",
    "    #print('SR Model SSIM {0:.2f}'.format(SR_ssim))\n",
    "    \n",
    "print('Average Bicubic PSNR {0:.2f}'.format(bicubic_psnr/len(real_imgs)))\n",
    "print('Average SR Model PSNR {0:.2f}'.format(SR_psnr/len(real_imgs)))\n",
    "print('Average Bicubic SSIM {0:.2f}'.format(bicubic_ssim/len(real_imgs)))\n",
    "print('Average SR Model SSIM {0:.2f}'.format(SR_ssim/len(real_imgs)))    "
   ]
  },
  {
   "cell_type": "markdown",
   "metadata": {},
   "source": [
    "## SRCNN Coord"
   ]
  },
  {
   "cell_type": "code",
   "execution_count": 19,
   "metadata": {},
   "outputs": [],
   "source": [
    "model_2_path = '../models/SRCNN_coord_x2_epoch_50.pth'\n",
    "model_2 = torch.load(model_2_path, map_location=lambda storage, loc: storage.cuda(0))\n",
    "model_2 = model_2.to(device)\n",
    "\n",
    "load_SR = SuperResolveDL(model_2, size=224, channel=1, resize=True)"
   ]
  },
  {
   "cell_type": "code",
   "execution_count": 20,
   "metadata": {},
   "outputs": [
    {
     "name": "stdout",
     "output_type": "stream",
     "text": [
      "Average Bicubic PSNR 32.44\n",
      "Average SR Model PSNR 31.90\n",
      "Average Bicubic SSIM 0.89\n",
      "Average SR Model SSIM 0.89\n"
     ]
    }
   ],
   "source": [
    "bicubic_psnr = 0\n",
    "SR_psnr = 0\n",
    "bicubic_ssim = 0\n",
    "SR_ssim = 0\n",
    "\n",
    "for index in range(len(real_imgs)):\n",
    "    \n",
    "    bicubic = np.array(load_image(upx2_imgs[index], size=224, resize=True))\n",
    "    SR_img = np.array(load_SR(upx2_imgs[index]))\n",
    "    real_img = np.array(load_image(real_imgs[index], resize=False))\n",
    "    \n",
    "    bicubic_psnr += psnr(bicubic, real_img)\n",
    "    SR_psnr += psnr(SR_img, real_img)\n",
    "    \n",
    "    bicubic_ssim += ssim(bicubic, real_img, multichannel=True)\n",
    "    SR_ssim += ssim(SR_img, real_img, multichannel=True)\n",
    "    \n",
    "    #print('Bicubic PSNR {0:.2f}'.format(bicubic_psnr))\n",
    "    #print('SR Model PSNR {0:.2f}'.format(SR_psnr))\n",
    "    #print('Bicubic SSIM {0:.2f}'.format(bicubic_ssim))\n",
    "    #print('SR Model SSIM {0:.2f}'.format(SR_ssim))\n",
    "    \n",
    "print('Average Bicubic PSNR {0:.2f}'.format(bicubic_psnr/len(real_imgs)))\n",
    "print('Average SR Model PSNR {0:.2f}'.format(SR_psnr/len(real_imgs)))\n",
    "print('Average Bicubic SSIM {0:.2f}'.format(bicubic_ssim/len(real_imgs)))\n",
    "print('Average SR Model SSIM {0:.2f}'.format(SR_ssim/len(real_imgs)))    "
   ]
  },
  {
   "cell_type": "markdown",
   "metadata": {},
   "source": [
    "### SRCNN Vanilla"
   ]
  },
  {
   "cell_type": "code",
   "execution_count": 23,
   "metadata": {},
   "outputs": [],
   "source": [
    "model_3_path = '../models/SRCNN_x2_epoch_50.pth'\n",
    "model_3 = torch.load(model_3_path, map_location=lambda storage, loc: storage.cuda(0))\n",
    "model_3 = model_3.to(device)\n",
    "\n",
    "load_SR = SuperResolveDL(model_3, size=224, channel=1, resize=True)"
   ]
  },
  {
   "cell_type": "code",
   "execution_count": 24,
   "metadata": {},
   "outputs": [
    {
     "name": "stdout",
     "output_type": "stream",
     "text": [
      "Average Bicubic PSNR 32.44\n",
      "Average SR Model PSNR 31.90\n",
      "Average Bicubic SSIM 0.89\n",
      "Average SR Model SSIM 0.89\n"
     ]
    }
   ],
   "source": [
    "bicubic_psnr = 0\n",
    "SR_psnr = 0\n",
    "bicubic_ssim = 0\n",
    "SR_ssim = 0\n",
    "\n",
    "for index in range(len(real_imgs)):\n",
    "    \n",
    "    bicubic = np.array(load_image(upx2_imgs[index], size=224, resize=True))\n",
    "    SR_img = np.array(load_SR(upx2_imgs[index]))\n",
    "    real_img = np.array(load_image(real_imgs[index], resize=False))\n",
    "    \n",
    "    bicubic_psnr += psnr(bicubic, real_img)\n",
    "    SR_psnr += psnr(SR_img, real_img)\n",
    "    \n",
    "    bicubic_ssim += ssim(bicubic, real_img, multichannel=True)\n",
    "    SR_ssim += ssim(SR_img, real_img, multichannel=True)\n",
    "    \n",
    "    #print('Bicubic PSNR {0:.2f}'.format(bicubic_psnr))\n",
    "    #print('SR Model PSNR {0:.2f}'.format(SR_psnr))\n",
    "    #print('Bicubic SSIM {0:.2f}'.format(bicubic_ssim))\n",
    "    #print('SR Model SSIM {0:.2f}'.format(SR_ssim))\n",
    "    \n",
    "print('Average Bicubic PSNR {0:.2f}'.format(bicubic_psnr/len(real_imgs)))\n",
    "print('Average SR Model PSNR {0:.2f}'.format(SR_psnr/len(real_imgs)))\n",
    "print('Average Bicubic SSIM {0:.2f}'.format(bicubic_ssim/len(real_imgs)))\n",
    "print('Average SR Model SSIM {0:.2f}'.format(SR_ssim/len(real_imgs)))    "
   ]
  },
  {
   "cell_type": "markdown",
   "metadata": {},
   "source": [
    "### SubCNN Vanilla"
   ]
  },
  {
   "cell_type": "code",
   "execution_count": 25,
   "metadata": {},
   "outputs": [],
   "source": [
    "model_4_path = '../models/SubCNN_x2_epoch_50.pth'\n",
    "model_4 = torch.load(model_4_path, map_location=lambda storage, loc: storage.cuda(0))\n",
    "model_4 = model_4.to(device)\n",
    "\n",
    "load_SR = SuperResolveDL(model_4, size=224, channel=1, resize=False)"
   ]
  },
  {
   "cell_type": "code",
   "execution_count": 26,
   "metadata": {},
   "outputs": [
    {
     "name": "stdout",
     "output_type": "stream",
     "text": [
      "Average Bicubic PSNR 32.44\n",
      "Average SR Model PSNR 32.04\n",
      "Average Bicubic SSIM 0.89\n",
      "Average SR Model SSIM 0.88\n"
     ]
    }
   ],
   "source": [
    "bicubic_psnr = 0\n",
    "SR_psnr = 0\n",
    "bicubic_ssim = 0\n",
    "SR_ssim = 0\n",
    "\n",
    "for index in range(len(real_imgs)):\n",
    "    \n",
    "    bicubic = np.array(load_image(upx2_imgs[index], size=224, resize=True))\n",
    "    SR_img = np.array(load_SR(upx2_imgs[index]))\n",
    "    real_img = np.array(load_image(real_imgs[index], resize=False))\n",
    "    \n",
    "    bicubic_psnr += psnr(bicubic, real_img)\n",
    "    SR_psnr += psnr(SR_img, real_img)\n",
    "    \n",
    "    bicubic_ssim += ssim(bicubic, real_img, multichannel=True)\n",
    "    SR_ssim += ssim(SR_img, real_img, multichannel=True)\n",
    "    \n",
    "    #print('Bicubic PSNR {0:.2f}'.format(bicubic_psnr))\n",
    "    #print('SR Model PSNR {0:.2f}'.format(SR_psnr))\n",
    "    #print('Bicubic SSIM {0:.2f}'.format(bicubic_ssim))\n",
    "    #print('SR Model SSIM {0:.2f}'.format(SR_ssim))\n",
    "    \n",
    "print('Average Bicubic PSNR {0:.2f}'.format(bicubic_psnr/len(real_imgs)))\n",
    "print('Average SR Model PSNR {0:.2f}'.format(SR_psnr/len(real_imgs)))\n",
    "print('Average Bicubic SSIM {0:.2f}'.format(bicubic_ssim/len(real_imgs)))\n",
    "print('Average SR Model SSIM {0:.2f}'.format(SR_ssim/len(real_imgs)))    "
   ]
  },
  {
   "cell_type": "markdown",
   "metadata": {},
   "source": [
    "### ProGAN Test"
   ]
  },
  {
   "cell_type": "code",
   "execution_count": 8,
   "metadata": {},
   "outputs": [
    {
     "data": {
      "text/plain": [
       "<All keys matched successfully>"
      ]
     },
     "execution_count": 8,
     "metadata": {},
     "output_type": "execute_result"
    }
   ],
   "source": [
    "from ProGAN_model import Generator\n",
    "\n",
    "model_path = '/home/angelo/Desktop/Github/Pytorch_Face_SR/models/generator_checkpoint_singleGPU.ckpt'\n",
    "\n",
    "model_checkpoint = torch.load(model_path, map_location = lambda storage, loc: storage.cuda(0))\n",
    "    \n",
    "alpha = model_checkpoint['alpha']\n",
    "step = model_checkpoint['step']\n",
    "\n",
    "generator = Generator().to(device)\n",
    "generator.load_state_dict(model_checkpoint['model_state_dict'], strict=False)"
   ]
  },
  {
   "cell_type": "code",
   "execution_count": 22,
   "metadata": {},
   "outputs": [],
   "source": [
    "def load_SR(path=''):\n",
    "    img = Image.open(path).resize((28,28), Image.BICUBIC) \n",
    "    img = (transforms.ToTensor()(img).unsqueeze(0)).to(device)\n",
    "\n",
    "    upsampled = ((generator(img, step, alpha)*0.5) + 0.5).squeeze(0)\n",
    "    out = upsampled.cpu()\n",
    "    out_img = out.data.numpy()\n",
    "    out_img *= 255.0\n",
    "    out_img = out_img.clip(0, 255)\n",
    "    out_img = out_img.transpose((1,2,0))\n",
    "    out_img = Image.fromarray(np.uint8(out_img), mode='RGB')\n",
    "    \n",
    "    return out_img"
   ]
  },
  {
   "cell_type": "code",
   "execution_count": 25,
   "metadata": {},
   "outputs": [
    {
     "name": "stdout",
     "output_type": "stream",
     "text": [
      "Average Bicubic PSNR 32.44\n",
      "Average SR Model PSNR 17.03\n",
      "Average Bicubic SSIM 0.89\n",
      "Average SR Model SSIM 0.56\n"
     ]
    }
   ],
   "source": [
    "bicubic_psnr = 0\n",
    "SR_psnr = 0\n",
    "bicubic_ssim = 0\n",
    "SR_ssim = 0\n",
    "\n",
    "for index in range(len(real_imgs)):\n",
    "    \n",
    "    bicubic = np.array(load_image(upx2_imgs[index], size=224, resize=True))\n",
    "    SR_img = np.array(load_SR(upx2_imgs[index]))\n",
    "    real_img = np.array(load_image(real_imgs[index], resize=False))\n",
    "    \n",
    "    bicubic_psnr += psnr(bicubic, real_img)\n",
    "    SR_psnr += psnr(SR_img, real_img)\n",
    "    \n",
    "    bicubic_ssim += ssim(bicubic, real_img, multichannel=True)\n",
    "    SR_ssim += ssim(SR_img, real_img, multichannel=True)\n",
    "    \n",
    "    #print('Bicubic PSNR {0:.2f}'.format(bicubic_psnr))\n",
    "    #print('SR Model PSNR {0:.2f}'.format(SR_psnr))\n",
    "    #print('Bicubic SSIM {0:.2f}'.format(bicubic_ssim))\n",
    "    #print('SR Model SSIM {0:.2f}'.format(SR_ssim))\n",
    "    \n",
    "\n",
    "print('Average Bicubic PSNR {0:.2f}'.format(bicubic_psnr/len(real_imgs)))\n",
    "print('Average SR Model PSNR {0:.2f}'.format(SR_psnr/len(real_imgs)))\n",
    "print('Average Bicubic SSIM {0:.2f}'.format(bicubic_ssim/len(real_imgs)))\n",
    "print('Average SR Model SSIM {0:.2f}'.format(SR_ssim/len(real_imgs)))    "
   ]
  }
 ],
 "metadata": {
  "kernelspec": {
   "display_name": "Python 3",
   "language": "python",
   "name": "python3"
  },
  "language_info": {
   "codemirror_mode": {
    "name": "ipython",
    "version": 3
   },
   "file_extension": ".py",
   "mimetype": "text/x-python",
   "name": "python",
   "nbconvert_exporter": "python",
   "pygments_lexer": "ipython3",
   "version": "3.6.8"
  }
 },
 "nbformat": 4,
 "nbformat_minor": 4
}
