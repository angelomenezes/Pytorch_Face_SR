{
 "cells": [
  {
   "cell_type": "code",
   "execution_count": 1,
   "metadata": {},
   "outputs": [],
   "source": [
    "from __future__ import absolute_import\n",
    "from __future__ import print_function\n",
    "import PIL\n",
    "import torch\n",
    "import glob as gb\n",
    "import numpy as np\n",
    "from PIL import Image\n",
    "import os\n",
    "import random\n",
    "import torch.nn as nn\n",
    "\n",
    "model_path = '/home/angelo/Desktop/Github/Feature-Extractors/'\n",
    "os.sys.path.append(model_path)\n",
    "\n",
    "from numpy import dot\n",
    "from numpy.linalg import norm\n",
    "import matplotlib.pyplot as plt"
   ]
  },
  {
   "cell_type": "code",
   "execution_count": 119,
   "metadata": {},
   "outputs": [],
   "source": [
    "# hyper parameters\n",
    "mean = (131.0912, 103.8827, 91.4953)\n",
    "\n",
    "def cos_sim(a,b):\n",
    "    return dot(a, b)/(norm(a)*norm(b))\n",
    "\n",
    "def euc_dis(a,b):\n",
    "    return norm(a-b)\n",
    "\n",
    "def load_data(path='', shape=(224,224,3)):\n",
    "    short_size = 224.0\n",
    "    crop_size = shape\n",
    "    img = PIL.Image.open(path)\n",
    "    \n",
    "    im_shape = np.array(img.size)    # in the format of (width, height, *)\n",
    "    img = img.convert('RGB')\n",
    "\n",
    "    ratio = float(short_size) / np.min(im_shape)\n",
    "    img = img.resize(size=(int(np.ceil(im_shape[0] * ratio)),   # width\n",
    "                           int(np.ceil(im_shape[1] * ratio))),  # height\n",
    "                           resample=PIL.Image.BICUBIC)\n",
    "\n",
    "    x = np.array(img)  # image has been transposed into (height, width)\n",
    "    newshape = x.shape[:2]\n",
    "    h_start = (newshape[0] - crop_size[0])//2\n",
    "    w_start = (newshape[1] - crop_size[1])//2\n",
    "    x = x[h_start:h_start+crop_size[0], w_start:w_start+crop_size[1]]\n",
    "    x = x - mean\n",
    "    return x\n",
    "\n",
    "\n",
    "def chunks(l, n):\n",
    "    # For item i in a range that is a length of l,\n",
    "    for i in range(0, len(l), n):\n",
    "        # Create an index range for l of n items:\n",
    "        yield l[i:i+n]\n",
    "\n",
    "def initialize_senet50():\n",
    "    import senet50_128_pytorch.senet50_128 as model\n",
    "    network = model.senet50_128(weights_path=model_path + 'senet50_128_pytorch/senet50_128.pth')\n",
    "    network.eval()\n",
    "    return network\n",
    "\n",
    "def initialize_resnet50():\n",
    "    import resnet50_128_pytorch.resnet50_128 as model\n",
    "    network = model.resnet50_128(weights_path=model_path + 'resnet50_128_pytorch/resnet50_128.pth')\n",
    "    network.eval()\n",
    "    return network\n",
    "\n",
    "def image_encoding(model, facepaths, batch_size):\n",
    "    print('==> compute image-level feature encoding.')\n",
    "    num_faces = len(facepaths)\n",
    "    face_feats = np.empty((num_faces, 128))\n",
    "    imgpaths = facepaths\n",
    "    imgchunks = list(chunks(imgpaths, batch_size))\n",
    "\n",
    "    for c, imgs in enumerate(imgchunks):\n",
    "        im_array = np.array([load_data(path=i, shape=(224, 224, 3)) for i in imgs])\n",
    "        f = model(torch.Tensor(im_array.transpose(0, 3, 1, 2)))[1].detach().cpu().numpy()[:, :, 0, 0]\n",
    "        start = c * batch_size\n",
    "        end = min((c + 1) * batch_size, num_faces)\n",
    "        # This is different from the Keras model where the normalization has been done inside the model.\n",
    "        face_feats[start:end] = f / np.sqrt(np.sum(f ** 2, -1, keepdims=True))\n",
    "        if c % 50 == 0:\n",
    "            print('-> finish encoding {} images.'.format(num_faces))\n",
    "    return face_feats\n",
    "\n",
    "\n",
    "def return_embedding(model, image):\n",
    "    face_feats = np.empty((1,128)) # Embedding size\n",
    "    im_array = np.array(image).reshape((1,3,224,224))\n",
    "    f = model(torch.Tensor(im_array))[1].detach().cpu().numpy()[:, :, 0, 0]\n",
    "    face_feats = f / np.sqrt(np.sum(f ** 2, -1, keepdims=True)) # Normalizing embedding\n",
    "    return face_feats.reshape(-1)\n",
    "\n",
    "def return_activations(model, image):\n",
    "    activations = list()\n",
    "    normalized_values = 0\n",
    "    im_array = np.array(image).reshape((1,3,224,224))\n",
    "    for i in range(2,7):\n",
    "        f = model(torch.Tensor(im_array))[i].detach().cpu().numpy()[:, :, 0, 0]\n",
    "        normalized_values = f / np.sqrt(np.sum(f ** 2, -1, keepdims=True))\n",
    "        activations.append(normalized_values.reshape(-1))\n",
    "    return np.array(activations)\n",
    "\n",
    "def face_perception_loss(model, img1, img2):\n",
    "    \n",
    "    activations_img1 = return_activations(model, img1)\n",
    "    activations_img2 = return_activations(model, img2)\n",
    "    loss = 0\n",
    "    \n",
    "    # L1 Error or L2 Error or Euclidean Distance\n",
    "    for layer in range(len(activations_img1)):\n",
    "        #loss += np.abs(sum(activations_img1[layer] - activations_img2[layer]))\n",
    "        loss += np.sum((activations_img1[layer] - activations_img2[layer])**2)\n",
    "        #loss += euc_dis(activations_img1[layer], activations_img2[layer])\n",
    "    return loss"
   ]
  },
  {
   "cell_type": "code",
   "execution_count": 3,
   "metadata": {},
   "outputs": [],
   "source": [
    "senet50 = initialize_senet50()"
   ]
  },
  {
   "cell_type": "code",
   "execution_count": 124,
   "metadata": {},
   "outputs": [
    {
     "name": "stdout",
     "output_type": "stream",
     "text": [
      "Identity Loss\n",
      "0.002061009407043457\n",
      "Perceptual Loss\n",
      "0.06567422114312649\n"
     ]
    }
   ],
   "source": [
    "low_res_img_path = '/media/angelo/DATEN/Datasets/CelebA/LR_112/test/018500.jpg'\n",
    "original_img_path = '/media/angelo/DATEN/Datasets/CelebA/HR/test/018500.jpg'\n",
    "\n",
    "lr_img = load_data(low_res_img_path)\n",
    "hr_img = load_data(original_img_path)\n",
    "\n",
    "lr_emb = return_embedding(senet50, lr_img)\n",
    "hr_emb = return_embedding(senet50, hr_img)\n",
    "\n",
    "print('Identity Loss')\n",
    "print(1 - cos_sim(lr_emb, hr_emb))\n",
    "      \n",
    "print('Perceptual Loss')\n",
    "print(face_perception_loss(senet50, lr_img, hr_img))"
   ]
  },
  {
   "cell_type": "code",
   "execution_count": 159,
   "metadata": {},
   "outputs": [
    {
     "name": "stdout",
     "output_type": "stream",
     "text": [
      "==> compute image-level feature encoding.\n",
      "-> finish encoding 30 images.\n"
     ]
    }
   ],
   "source": [
    "img_path = '/media/angelo/DATEN/Datasets/ICB-RW/'\n",
    "\n",
    "gallery_path = gb.glob(img_path + 'gallery/*.jpg')\n",
    "gallery_names = np.array([os.path.splitext(name)[0][:-2] for name in os.listdir(img_path + 'gallery/')])\n",
    "\n",
    "model_eval = initialize_resnet50()\n",
    "face_embeddings = image_encoding(model_eval, gallery_path)"
   ]
  },
  {
   "cell_type": "code",
   "execution_count": 160,
   "metadata": {},
   "outputs": [
    {
     "data": {
      "image/png": "[encoded data removed]",
      "text/plain": [
       "<Figure size 432x288 with 1 Axes>"
      ]
     },
     "metadata": {
      "needs_background": "light"
     },
     "output_type": "display_data"
    }
   ],
   "source": [
    "# Checking distances\n",
    "\n",
    "S = np.dot(face_embeddings, face_embeddings.T)\n",
    "\n",
    "plt.imshow(S)\n",
    "plt.show()"
   ]
  },
  {
   "cell_type": "code",
   "execution_count": 161,
   "metadata": {},
   "outputs": [
    {
     "name": "stdout",
     "output_type": "stream",
     "text": [
      "1.0\n"
     ]
    },
    {
     "data": {
      "text/plain": [
       "array([[3, 0, 0, 0, 0, 0, 0, 0, 0, 0],\n",
       "       [0, 3, 0, 0, 0, 0, 0, 0, 0, 0],\n",
       "       [0, 0, 3, 0, 0, 0, 0, 0, 0, 0],\n",
       "       [0, 0, 0, 3, 0, 0, 0, 0, 0, 0],\n",
       "       [0, 0, 0, 0, 3, 0, 0, 0, 0, 0],\n",
       "       [0, 0, 0, 0, 0, 3, 0, 0, 0, 0],\n",
       "       [0, 0, 0, 0, 0, 0, 3, 0, 0, 0],\n",
       "       [0, 0, 0, 0, 0, 0, 0, 3, 0, 0],\n",
       "       [0, 0, 0, 0, 0, 0, 0, 0, 3, 0],\n",
       "       [0, 0, 0, 0, 0, 0, 0, 0, 0, 3]])"
      ]
     },
     "execution_count": 161,
     "metadata": {},
     "output_type": "execute_result"
    }
   ],
   "source": [
    "from sklearn.metrics import confusion_matrix,f1_score, accuracy_score\n",
    "from sklearn.neighbors import KNeighborsClassifier\n",
    "\n",
    "knn = KNeighborsClassifier(metric='euclidean',n_neighbors=1)\n",
    "\n",
    "knn.fit(face_embeddings, gallery_names)\n",
    "\n",
    "acc_knn = accuracy_score(gallery_names, knn.predict(face_embeddings))\n",
    "print(acc_knn)\n",
    "confusion_matrix(gallery_names, knn.predict(face_embeddings))"
   ]
  },
  {
   "cell_type": "code",
   "execution_count": 162,
   "metadata": {},
   "outputs": [
    {
     "name": "stdout",
     "output_type": "stream",
     "text": [
      "==> compute image-level feature encoding.\n",
      "-> finish encoding 50 images.\n",
      "0.82\n"
     ]
    },
    {
     "data": {
      "text/plain": [
       "array([[3, 0, 0, 0, 0, 0, 0, 0, 1, 1],\n",
       "       [0, 5, 0, 0, 0, 0, 0, 0, 0, 0],\n",
       "       [0, 0, 5, 0, 0, 0, 0, 0, 0, 0],\n",
       "       [0, 0, 0, 4, 0, 1, 0, 0, 0, 0],\n",
       "       [0, 1, 0, 0, 2, 0, 1, 0, 1, 0],\n",
       "       [0, 0, 0, 0, 0, 5, 0, 0, 0, 0],\n",
       "       [0, 1, 0, 0, 0, 1, 3, 0, 0, 0],\n",
       "       [0, 0, 0, 0, 0, 0, 0, 4, 1, 0],\n",
       "       [0, 0, 0, 0, 0, 0, 0, 0, 5, 0],\n",
       "       [0, 0, 0, 0, 0, 0, 0, 0, 0, 5]])"
      ]
     },
     "execution_count": 162,
     "metadata": {},
     "output_type": "execute_result"
    }
   ],
   "source": [
    "img_path = '/media/angelo/DATEN/Datasets/ICB-RW/probe/'\n",
    "\n",
    "probe_images = gb.glob(img_path + '/*.jpg')\n",
    "probe_names = np.array([os.path.splitext(name)[0][:-2] for name in os.listdir(img_path)])\n",
    "\n",
    "test_embeddings = image_encoding(model_eval, probe_images)\n",
    "predictions = knn.predict(test_embeddings)\n",
    "\n",
    "knn_matrix = confusion_matrix(probe_names, predictions)\n",
    "print(accuracy_score(probe_names, predictions))\n",
    "knn_matrix"
   ]
  },
  {
   "cell_type": "code",
   "execution_count": 158,
   "metadata": {},
   "outputs": [
    {
     "data": {
      "image/png": "[encoded data removed]",
      "text/plain": [
       "<Figure size 720x576 with 2 Axes>"
      ]
     },
     "metadata": {
      "needs_background": "light"
     },
     "output_type": "display_data"
    }
   ],
   "source": [
    "def plot_confusion_matrix(cm,\n",
    "                          target_names,\n",
    "                          title='Confusion matrix',\n",
    "                          cmap=None,\n",
    "                          normalize=True):\n",
    "    import itertools\n",
    "\n",
    "    accuracy = np.trace(cm) / float(np.sum(cm))\n",
    "    misclass = 1 - accuracy\n",
    "\n",
    "    if cmap is None:\n",
    "        cmap = plt.get_cmap('Blues')\n",
    "\n",
    "    plt.figure(figsize=(10, 8))\n",
    "    plt.imshow(cm, interpolation='nearest', cmap=cmap)\n",
    "    plt.title(title)\n",
    "    plt.colorbar()\n",
    "\n",
    "    if target_names is not None:\n",
    "        tick_marks = np.arange(len(target_names))\n",
    "        plt.xticks(tick_marks, target_names, rotation=45)\n",
    "        plt.yticks(tick_marks, target_names)\n",
    "\n",
    "    if normalize:\n",
    "        cm = cm.astype('float') / cm.sum(axis=1)[:, np.newaxis]\n",
    "\n",
    "\n",
    "    thresh = cm.max() / 1.5 if normalize else cm.max() / 2\n",
    "    for i, j in itertools.product(range(cm.shape[0]), range(cm.shape[1])):\n",
    "        if normalize:\n",
    "            plt.text(j, i, \"{:0.4f}\".format(cm[i, j]),\n",
    "                     horizontalalignment=\"center\",\n",
    "                     color=\"white\" if cm[i, j] > thresh else \"black\")\n",
    "        else:\n",
    "            plt.text(j, i, \"{:,}\".format(cm[i, j]),\n",
    "                     horizontalalignment=\"center\",\n",
    "                     color=\"white\" if cm[i, j] > thresh else \"black\")\n",
    "\n",
    "\n",
    "    plt.tight_layout()\n",
    "    plt.ylabel('True label')\n",
    "    plt.xlabel('Predicted label\\naccuracy={:0.4f}; misclass={:0.4f}'.format(accuracy, misclass))\n",
    "    plt.show()\n",
    "\n",
    "class_names = list(set(probe_names))\n",
    "\n",
    "plot_confusion_matrix(knn_matrix, class_names,\n",
    "                      title='Confusion matrix K-NN', cmap=None,\n",
    "                          normalize=False)"
   ]
  },
  {
   "cell_type": "code",
   "execution_count": 82,
   "metadata": {},
   "outputs": [
    {
     "data": {
      "image/png": "[encoded data removed]",
      "text/plain": [
       "<Figure size 432x288 with 1 Axes>"
      ]
     },
     "metadata": {
      "needs_background": "light"
     },
     "output_type": "display_data"
    }
   ],
   "source": [
    "from sklearn.manifold import TSNE\n",
    "from sklearn.preprocessing import LabelEncoder\n",
    "\n",
    "encoder = LabelEncoder()\n",
    "\n",
    "X_embedded = TSNE(n_components=2).fit_transform(face_embeddings)\n",
    "\n",
    "for i, t in enumerate(set(gallery_names)):\n",
    "    idx = gallery_names == t\n",
    "    plt.scatter(X_embedded[idx, 0], X_embedded[idx, 1], label=t)   \n",
    "\n",
    "plt.legend(bbox_to_anchor=(1, 1));"
   ]
  },
  {
   "cell_type": "code",
   "execution_count": 101,
   "metadata": {},
   "outputs": [
    {
     "data": {
      "text/plain": [
       "<matplotlib.image.AxesImage at 0x7fef7fcd7860>"
      ]
     },
     "execution_count": 101,
     "metadata": {},
     "output_type": "execute_result"
    },
    {
     "data": {
      "image/png": "[encoded data removed]",
      "text/plain": [
       "<Figure size 432x288 with 1 Axes>"
      ]
     },
     "metadata": {
      "needs_background": "light"
     },
     "output_type": "display_data"
    }
   ],
   "source": [
    "# Checking distances\n",
    "\n",
    "distances = np.array([cos_sim(feature1, feature2) for feature1 in face_feats for feature2 in face_feats])\n",
    "\n",
    "distances = np.reshape(distances, [10,10])\n",
    "\n",
    "plt.imshow(distances)"
   ]
  }
 ],
 "metadata": {
  "kernelspec": {
   "display_name": "Python 3",
   "language": "python",
   "name": "python3"
  },
  "language_info": {
   "codemirror_mode": {
    "name": "ipython",
    "version": 3
   },
   "file_extension": ".py",
   "mimetype": "text/x-python",
   "name": "python",
   "nbconvert_exporter": "python",
   "pygments_lexer": "ipython3",
   "version": "3.6.8"
  }
 },
 "nbformat": 4,
 "nbformat_minor": 4
}
