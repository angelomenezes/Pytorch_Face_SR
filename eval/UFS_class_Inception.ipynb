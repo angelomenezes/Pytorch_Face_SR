{
 "cells": [
  {
   "cell_type": "code",
   "execution_count": 1,
   "metadata": {},
   "outputs": [],
   "source": [
    "import PIL\n",
    "import torch\n",
    "import glob as gb\n",
    "import numpy as np\n",
    "from PIL import Image\n",
    "import os\n",
    "import random\n",
    "import torch.nn as nn\n",
    "import pandas as pd \n",
    "\n",
    "from numpy import dot\n",
    "from numpy.linalg import norm\n",
    "import matplotlib.pyplot as plt\n",
    "import random\n",
    "\n",
    "from facenet_pytorch import MTCNN, InceptionResnetV1\n",
    "import torchvision.transforms as transforms\n",
    "\n",
    "random.seed(1)\n",
    "np.random.seed(1)"
   ]
  },
  {
   "cell_type": "code",
   "execution_count": 2,
   "metadata": {},
   "outputs": [],
   "source": [
    "# Hyper parameters\n",
    "\n",
    "def cos_sim(a,b):\n",
    "    return 1 - dot(a, b)/(norm(a)*norm(b))\n",
    "\n",
    "def euc_dis(a,b):\n",
    "    return norm(a-b)\n",
    "\n",
    "def l2_error(a,b):\n",
    "    return sum((a-b)**2)\n",
    "\n",
    "def load_image(path='', resize=True, size=160):\n",
    "    img = Image.open(path)\n",
    "    if resize:\n",
    "        img = img.resize((size,size), resample=PIL.Image.BICUBIC)\n",
    "    return img"
   ]
  },
  {
   "cell_type": "code",
   "execution_count": 3,
   "metadata": {},
   "outputs": [],
   "source": [
    "resnet = InceptionResnetV1(pretrained='vggface2').eval()"
   ]
  },
  {
   "cell_type": "code",
   "execution_count": 4,
   "metadata": {},
   "outputs": [],
   "source": [
    "def return_embedding(img_path):\n",
    "    img_as_tensor = transforms.ToTensor()(load_image(img_path))\n",
    "    img_emb = resnet(img_as_tensor.unsqueeze(0)).squeeze(0).detach().numpy()\n",
    "    return img_emb\n",
    "\n",
    "def return_batch_embedding(imgs_path):\n",
    "    img_array = [transforms.ToTensor()(load_image(path)) for path in imgs_path]\n",
    "    emb_array = [resnet(img.unsqueeze(0)).squeeze(0).detach().numpy() for img in img_array]\n",
    "    return np.array(emb_array)"
   ]
  },
  {
   "cell_type": "code",
   "execution_count": 45,
   "metadata": {},
   "outputs": [],
   "source": [
    "img_path = '/media/angelo/DATEN/Datasets/Dados_TCC_Joao/Material TCC/Classe3/Classe/faces_bd/'\n",
    "\n",
    "gallery_path = gb.glob(img_path + 'gallery-NoSizeMargin/*.png')\n",
    "gallery_names = [os.path.splitext(name)[0] for name in os.listdir(img_path + 'gallery-NoSizeMargin/')]\n",
    "\n",
    "face_embeddings = return_batch_embedding(gallery_path)"
   ]
  },
  {
   "cell_type": "code",
   "execution_count": 46,
   "metadata": {},
   "outputs": [
    {
     "name": "stdout",
     "output_type": "stream",
     "text": [
      "Accuracy for Class Classe_1 was 0.5625\n",
      "Accuracy for Class Classe_2 was 0.6250\n",
      "Accuracy for Class Classe_3 was 0.5625\n"
     ]
    }
   ],
   "source": [
    "# Experimentation\n",
    "\n",
    "probe_path = img_path + 'probe-NoSizeMargin/'\n",
    "class_folder = [folder for folder in os.listdir(probe_path) if os.path.isdir(os.path.join(probe_path, folder))] \n",
    "\n",
    "for classe in class_folder:\n",
    "    \n",
    "    accuracy = 0\n",
    "    class_probe_path = probe_path + classe + '/'\n",
    "    student_pool_list = os.listdir(class_probe_path)\n",
    "\n",
    "    for index, student in enumerate(student_pool_list):\n",
    "\n",
    "        student_emb = return_embedding(class_probe_path + student)\n",
    "\n",
    "        similarities = [cos_sim(student_emb, face_embeddings[i]) for i in range(len(face_embeddings))]\n",
    "\n",
    "        least_dis = np.argmin(np.array(similarities))\n",
    "\n",
    "        if student[:2] == gallery_names[least_dis][:2]:\n",
    "            accuracy += 1\n",
    "\n",
    "        #plt.figure(figsize=(5,5))\n",
    "        #plt.subplot(1,2,1)\n",
    "        #plt.imshow(load_image(gallery_path[least_dis]))\n",
    "        #plt.subplot(1,2,2)\n",
    "        #plt.imshow(load_image(class_probe_path + student))\n",
    "\n",
    "    print('Accuracy for Class ' + classe + ' was {:.4f}'.format(accuracy/len(student_pool_list)))"
   ]
  }
 ],
 "metadata": {
  "kernelspec": {
   "display_name": "Python 3",
   "language": "python",
   "name": "python3"
  },
  "language_info": {
   "codemirror_mode": {
    "name": "ipython",
    "version": 3
   },
   "file_extension": ".py",
   "mimetype": "text/x-python",
   "name": "python",
   "nbconvert_exporter": "python",
   "pygments_lexer": "ipython3",
   "version": "3.6.8"
  }
 },
 "nbformat": 4,
 "nbformat_minor": 4
}
