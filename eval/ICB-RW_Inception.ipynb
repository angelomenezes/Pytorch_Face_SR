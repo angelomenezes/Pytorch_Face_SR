{
 "cells": [
  {
   "cell_type": "code",
   "execution_count": 1,
   "metadata": {},
   "outputs": [],
   "source": [
    "import PIL\n",
    "import torch\n",
    "import glob as gb\n",
    "import numpy as np\n",
    "from PIL import Image\n",
    "import os\n",
    "import random\n",
    "import torch.nn as nn\n",
    "import pandas as pd \n",
    "\n",
    "from numpy import dot\n",
    "from numpy.linalg import norm\n",
    "import matplotlib.pyplot as plt\n",
    "import random\n",
    "\n",
    "from facenet_pytorch import MTCNN, InceptionResnetV1\n",
    "import torchvision.transforms as transforms\n",
    "random.seed(1)\n",
    "np.random.seed(1)"
   ]
  },
  {
   "cell_type": "code",
   "execution_count": 2,
   "metadata": {},
   "outputs": [],
   "source": [
    "# Hyper parameters\n",
    "\n",
    "def cos_sim(a,b):\n",
    "    return 1 - dot(a, b)/(norm(a)*norm(b))\n",
    "\n",
    "def euc_dis(a,b):\n",
    "    return norm(a-b)\n",
    "\n",
    "def l2_error(a,b):\n",
    "    return sum((a-b)**2)\n",
    "\n",
    "def load_image(path='', resize=True, size=160):\n",
    "    '''\n",
    "    VGGFace2 Data has mean = (131.0912, 103.8827, 91.4953)\n",
    "    and std = (1,1,1) with no scaling\n",
    "    '''\n",
    "    img = Image.open(path)\n",
    "    if resize:\n",
    "        img = img.resize((size,size), resample=PIL.Image.BICUBIC)\n",
    "    return img"
   ]
  },
  {
   "cell_type": "code",
   "execution_count": 3,
   "metadata": {},
   "outputs": [],
   "source": [
    "resnet = InceptionResnetV1(pretrained='vggface2').eval()"
   ]
  },
  {
   "cell_type": "code",
   "execution_count": 4,
   "metadata": {},
   "outputs": [],
   "source": [
    "def return_embedding(img_path):\n",
    "    img_as_tensor = transforms.ToTensor()(load_image(img_path))\n",
    "    img_emb = resnet(img_as_tensor.unsqueeze(0)).squeeze(0).detach().numpy()\n",
    "    return img_emb\n",
    "\n",
    "def return_batch_embedding(imgs_path):\n",
    "    img_array = [transforms.ToTensor()(load_image(path)) for path in imgs_path]\n",
    "    emb_array = [resnet(img.unsqueeze(0)).squeeze(0).detach().numpy() for img in img_array]\n",
    "    return np.array(emb_array)"
   ]
  },
  {
   "cell_type": "code",
   "execution_count": 5,
   "metadata": {},
   "outputs": [],
   "source": [
    "img_path = '/media/angelo/DATEN/Datasets/ICB-RW/'\n",
    "\n",
    "gallery_path = gb.glob(img_path + 'gallery/*.jpg')\n",
    "gallery_names = [str(int(os.path.splitext(name)[0][:-2])) for name in os.listdir(img_path + 'gallery/')]\n",
    "\n",
    "face_embeddings = return_batch_embedding(gallery_path)"
   ]
  },
  {
   "cell_type": "code",
   "execution_count": null,
   "metadata": {
    "jupyter": {
     "source_hidden": true
    }
   },
   "outputs": [],
   "source": [
    "probe_path = img_path + 'probe/'\n",
    "student_pool_list = gallery_names\n",
    "\n",
    "real_embedding = return_embedding(img_path + 'gallery/00' + student_pool_list[0] + '_f.jpg')\n",
    "\n",
    "guilty_student_path = gb.glob(probe_path + student_pool_list[0] + '/*.jpg')\n",
    "sample_1_student = gb.glob(probe_path + student_pool_list[1] + '/*.jpg')\n",
    "sample_2_student = gb.glob(probe_path + student_pool_list[2] + '/*.jpg')\n",
    "sample_3_student = gb.glob(probe_path + student_pool_list[3] + '/*.jpg')\n",
    "\n",
    "print('For student ' + student_pool_list[0])\n",
    "print('Similarity with his own probe photos: ')\n",
    "\n",
    "guilty_student_emb = return_batch_embedding(guilty_student_path)\n",
    "similarities = [cos_sim(real_embedding, guilty_student_emb[i]) for i in range(5)]\n",
    "print(similarities)\n",
    "\n",
    "print('Similarity with probe photos of ' + student_pool_list[1])\n",
    "\n",
    "guilty_student_emb = return_batch_embedding(sample_1_student)\n",
    "similarities = [cos_sim(real_embedding, guilty_student_emb[i]) for i in range(5)]\n",
    "print(similarities)\n",
    "\n",
    "print('Similarity with probe photos of ' + student_pool_list[2])\n",
    "\n",
    "guilty_student_emb = return_batch_embedding(sample_2_student)\n",
    "similarities = [cos_sim(real_embedding, guilty_student_emb[i]) for i in range(5)]\n",
    "print(similarities)\n",
    "\n",
    "print('Similarity with probe photos of ' + student_pool_list[3])\n",
    "\n",
    "guilty_student_emb = return_batch_embedding(sample_3_student)\n",
    "similarities = [cos_sim(real_embedding, guilty_student_emb[i]) for i in range(5)]\n",
    "print(similarities)"
   ]
  },
  {
   "cell_type": "code",
   "execution_count": 9,
   "metadata": {},
   "outputs": [
    {
     "name": "stdout",
     "output_type": "stream",
     "text": [
      "Accuracy: 0.79\n",
      "Error happend with the following students: \n",
      "['3', '102', '105', '4', '58', '63', '6', '79', '9', '13', '14', '162', '171', '172', '24', '25', '33', '34', '35']\n"
     ]
    }
   ],
   "source": [
    "# Experimentation\n",
    "probe_path = img_path + 'probe/'\n",
    "student_pool_list = gallery_names\n",
    "accuracy = 0\n",
    "error = []\n",
    "\n",
    "for index, student in enumerate(student_pool_list):\n",
    "    probe_list_students = student_pool_list.copy()\n",
    "    watch_list_emb = []\n",
    "    watch_list_images = []\n",
    "    \n",
    "    # First embeddings is always for the guilty student  \n",
    "    guilty_student_image = probe_path + student + '/' + random.choice(os.listdir(probe_path + student))\n",
    "    watch_list_emb.append(return_embedding(guilty_student_image))\n",
    "    \n",
    "    probe_list_students.remove(student)\n",
    "    \n",
    "    watch_list_students = random.sample(probe_list_students, 4)\n",
    "    \n",
    "    for suspect in watch_list_students:\n",
    "        image = random.choice(os.listdir(probe_path + suspect))\n",
    "        watch_list_images.append(probe_path + suspect + '/' + image)\n",
    "        \n",
    "    for suspect in watch_list_images:\n",
    "        watch_list_emb.append(return_embedding(suspect))\n",
    "    \n",
    "    similarities = [cos_sim(face_embeddings[index], watch_list_emb[i]) for i in range(5)]\n",
    "    \n",
    "    # If the least distance is the first element, let's sum 1\n",
    "    if np.argmin(np.array(similarities)) == 0:\n",
    "        accuracy += 1\n",
    "    else:\n",
    "        error.append(student)\n",
    "    \n",
    "    #print('Student {}/{}'.format(index+1,len(student_pool_list)))\n",
    "    #print('For student ' + student)\n",
    "    #print(pd.DataFrame(similarities))\n",
    "    #print('------------------------------------------------')\n",
    "    \n",
    "print(\"Accuracy: {0:.2f}\".format(accuracy/len(student_pool_list)))\n",
    "print('Error happend with the following students: ')\n",
    "print(error)"
   ]
  }
 ],
 "metadata": {
  "kernelspec": {
   "display_name": "Python 3",
   "language": "python",
   "name": "python3"
  },
  "language_info": {
   "codemirror_mode": {
    "name": "ipython",
    "version": 3
   },
   "file_extension": ".py",
   "mimetype": "text/x-python",
   "name": "python",
   "nbconvert_exporter": "python",
   "pygments_lexer": "ipython3",
   "version": "3.6.8"
  }
 },
 "nbformat": 4,
 "nbformat_minor": 4
}
