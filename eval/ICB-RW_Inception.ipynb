{
 "cells": [
  {
   "cell_type": "code",
   "execution_count": 1,
   "metadata": {},
   "outputs": [],
   "source": [
    "import torch\n",
    "import glob as gb\n",
    "import numpy as np\n",
    "from PIL import Image\n",
    "import os\n",
    "\n",
    "import random\n",
    "import torch.nn as nn\n",
    "import pandas as pd \n",
    "\n",
    "from numpy import dot\n",
    "from numpy.linalg import norm\n",
    "import matplotlib.pyplot as plt\n",
    "import random\n",
    "\n",
    "from facenet_pytorch import MTCNN, InceptionResnetV1\n",
    "import torchvision.transforms as transforms\n",
    "import torch.backends.cudnn as cudnn\n",
    "\n",
    "os.sys.path.append('../')\n",
    "from utils.loss import cos_sim\n",
    "\n",
    "random.seed(1)\n",
    "np.random.seed(1)"
   ]
  },
  {
   "cell_type": "code",
   "execution_count": 2,
   "metadata": {},
   "outputs": [
    {
     "name": "stderr",
     "output_type": "stream",
     "text": [
      "/home/angelo/Desktop/Github/virtual_envs/image_app/lib/python3.6/site-packages/torch/serialization.py:453: SourceChangeWarning: source code of class 'SRCNN_model.Net' has changed. you can retrieve the original source code by accessing the object's source attribute or set `torch.nn.Module.dump_patches = True` and use the patch tool to revert the changes.\n",
      "  warnings.warn(msg, SourceChangeWarning)\n"
     ]
    }
   ],
   "source": [
    "# SR Model Initialization\n",
    "\n",
    "GPU_IN_USE = torch.cuda.is_available()\n",
    "\n",
    "if GPU_IN_USE:\n",
    "    cudnn.benchmark = True\n",
    "    \n",
    "device = torch.device('cuda' if GPU_IN_USE else 'cpu')\n",
    "model_path = '../models/SRCNN_Loss_x4_epoch_20.pth'\n",
    "#model_path = '../models/SRCNN_coord_x4_epoch_50.pth'\n",
    "\n",
    "model = torch.load(model_path, map_location=lambda storage, loc: storage.cuda(0))\n",
    "model = model.to(device)"
   ]
  },
  {
   "cell_type": "code",
   "execution_count": 3,
   "metadata": {},
   "outputs": [],
   "source": [
    "# Testing upsampling via SR\n",
    "class SuperResolveDL:\n",
    "    def __init__(self, model, size, channel, resize=True):\n",
    "        self.model = model\n",
    "        self.size = size\n",
    "        self.channel = channel\n",
    "        self.resize = resize\n",
    "        \n",
    "    def __call__(self, path=''):\n",
    "        if self.channel == 1:\n",
    "            img = Image.open(path).convert('YCbCr').resize((self.size,self.size),resample=Image.BICUBIC)\n",
    "            upsample, cb, cr = img.split()\n",
    "            if not self.resize:\n",
    "                upsample, _, _ = Image.open(path).convert('YCbCr').split()\n",
    "        elif self.channel == 3:\n",
    "            if self.resize: \n",
    "                upsample = Image.open(path).convert('RGB').resize((self.size,self.size),resample=Image.BICUBIC)\n",
    "            else:\n",
    "                upsample = Image.open(path).convert('RGB')\n",
    "        else:\n",
    "            raise Exception('Channel option not listed')\n",
    "        \n",
    "        data = (transforms.ToTensor()(upsample)).view(1, self.channel, upsample.size[1], upsample.size[0])\n",
    "        data = data.to(device)\n",
    "        out = self.model(data)\n",
    "        out = out.cpu()\n",
    "        out_img = out.data[0].numpy()\n",
    "        out_img *= 255.0\n",
    "        out_img = out_img.clip(0, 255)\n",
    "                \n",
    "        if self.channel == 1:\n",
    "            out_img = Image.fromarray(np.uint8(out_img[0]), mode='L')\n",
    "            out_img = Image.merge('YCbCr', [out_img, cb, cr]).convert('RGB')\n",
    "        \n",
    "        if self.channel == 3:\n",
    "            out_img = out_img.transpose((1,2,0))\n",
    "            out_img = Image.fromarray(np.uint8(out_img), mode='RGB')\n",
    "\n",
    "        return out_img\n",
    "    \n",
    "    \n",
    "# Testing upsampling via Bicubic\n",
    "\n",
    "def load_image(path='', size=160, resize=True): # Bicubic\n",
    "    img = Image.open(path)\n",
    "    if resize:\n",
    "        img = img.resize((size,size), resample=Image.BICUBIC)\n",
    "    return img"
   ]
  },
  {
   "cell_type": "code",
   "execution_count": 4,
   "metadata": {},
   "outputs": [],
   "source": [
    "def return_embedding(img_path):\n",
    "    img_as_tensor = transforms.ToTensor()(load_image(img_path))\n",
    "    img_emb = resnet(img_as_tensor.unsqueeze(0)).squeeze(0).detach().numpy()\n",
    "    return img_emb\n",
    "\n",
    "def return_batch_embedding(imgs_path):\n",
    "    img_array = [transforms.ToTensor()(load_image(path)) for path in imgs_path]\n",
    "    emb_array = [resnet(img.unsqueeze(0)).squeeze(0).detach().numpy() for img in img_array]\n",
    "    return np.array(emb_array)"
   ]
  },
  {
   "cell_type": "code",
   "execution_count": 5,
   "metadata": {},
   "outputs": [],
   "source": [
    "resnet = InceptionResnetV1(pretrained='vggface2').eval()"
   ]
  },
  {
   "cell_type": "code",
   "execution_count": 6,
   "metadata": {},
   "outputs": [
    {
     "data": {
      "image/png": "[encoded data removed]",
      "text/plain": [
       "<PIL.Image.Image image mode=RGB size=160x160 at 0x7FEC4321CF28>"
      ]
     },
     "execution_count": 6,
     "metadata": {},
     "output_type": "execute_result"
    }
   ],
   "source": [
    "load_image = SuperResolveDL(model, size=160, channel=3, resize=True)\n",
    "load_image('/media/angelo/DATEN/Datasets/ICB-RW/Margin1.3_40/gallery/003_f.jpg')"
   ]
  },
  {
   "cell_type": "code",
   "execution_count": 7,
   "metadata": {},
   "outputs": [],
   "source": [
    "img_path = '/media/angelo/DATEN/Datasets/ICB-RW/Margin1.3_40/'\n",
    "\n",
    "gallery_path = gb.glob(img_path + 'gallery/*.jpg')\n",
    "gallery_names = [str(int(os.path.splitext(name)[0][:-2])) for name in os.listdir(img_path + 'gallery/')]\n",
    "\n",
    "face_embeddings = return_batch_embedding(gallery_path)"
   ]
  },
  {
   "cell_type": "code",
   "execution_count": 8,
   "metadata": {
    "jupyter": {
     "source_hidden": true
    }
   },
   "outputs": [
    {
     "name": "stdout",
     "output_type": "stream",
     "text": [
      "For student 12\n",
      "Similarity with his own probe photos: \n",
      "[0.5617353916168213, 0.6795735955238342, 0.6085095107555389, 0.5030083358287811, 0.7223293483257294]\n",
      "Similarity with probe photos of 3\n",
      "[0.9618889577686787, 1.0242132879793644, 0.9560040980577469, 0.7625285089015961, 0.8843947052955627]\n",
      "Similarity with probe photos of 100\n",
      "[0.9655145928263664, 0.7119525074958801, 0.5771535634994507, 0.7621915340423584, 0.8465997129678726]\n",
      "Similarity with probe photos of 101\n",
      "[0.7824643403291702, 0.6951324045658112, 0.891516923904419, 0.8316399604082108, 0.9627868346869946]\n"
     ]
    }
   ],
   "source": [
    "# Checking consistency\n",
    "\n",
    "probe_path = img_path + 'probe/'\n",
    "student_pool_list = gallery_names\n",
    "\n",
    "real_embedding = return_embedding(img_path + 'gallery/00' + student_pool_list[0] + '_f.jpg')\n",
    "\n",
    "guilty_student_path = gb.glob(probe_path + student_pool_list[0] + '/*.jpg')\n",
    "sample_1_student = gb.glob(probe_path + student_pool_list[1] + '/*.jpg')\n",
    "sample_2_student = gb.glob(probe_path + student_pool_list[2] + '/*.jpg')\n",
    "sample_3_student = gb.glob(probe_path + student_pool_list[3] + '/*.jpg')\n",
    "\n",
    "print('For student ' + student_pool_list[0])\n",
    "print('Similarity with his own probe photos: ')\n",
    "\n",
    "guilty_student_emb = return_batch_embedding(guilty_student_path)\n",
    "similarities = [cos_sim(real_embedding, guilty_student_emb[i]) for i in range(5)]\n",
    "print(similarities)\n",
    "\n",
    "print('Similarity with probe photos of ' + student_pool_list[1])\n",
    "\n",
    "guilty_student_emb = return_batch_embedding(sample_1_student)\n",
    "similarities = [cos_sim(real_embedding, guilty_student_emb[i]) for i in range(5)]\n",
    "print(similarities)\n",
    "\n",
    "print('Similarity with probe photos of ' + student_pool_list[2])\n",
    "\n",
    "guilty_student_emb = return_batch_embedding(sample_2_student)\n",
    "similarities = [cos_sim(real_embedding, guilty_student_emb[i]) for i in range(5)]\n",
    "print(similarities)\n",
    "\n",
    "print('Similarity with probe photos of ' + student_pool_list[3])\n",
    "\n",
    "guilty_student_emb = return_batch_embedding(sample_3_student)\n",
    "similarities = [cos_sim(real_embedding, guilty_student_emb[i]) for i in range(5)]\n",
    "print(similarities)"
   ]
  },
  {
   "cell_type": "code",
   "execution_count": 10,
   "metadata": {},
   "outputs": [
    {
     "name": "stdout",
     "output_type": "stream",
     "text": [
      "Accuracy: 0.50\n",
      "Error happend with the following students: \n",
      "['3', '102', '104', '105', '10', '112', '113', '11', '121', '123', '128', '43', '46', '4', '57', '59', '63', '6', '70', '79', '8', '91', '92', '98', '134', '138', '13', '144', '145', '148', '14', '151', '159', '15', '167', '16', '171', '172', '175', '188', '23', '24', '2', '33', '34']\n"
     ]
    }
   ],
   "source": [
    "# Experimentation\n",
    "probe_path = img_path + 'probe/'\n",
    "student_pool_list = gallery_names\n",
    "accuracy = 0\n",
    "error = []\n",
    "\n",
    "for index, student in enumerate(student_pool_list):\n",
    "    probe_list_students = student_pool_list.copy()\n",
    "    watch_list_emb = []\n",
    "    watch_list_images = []\n",
    "    \n",
    "    # First embeddings is always for the guilty student  \n",
    "    guilty_student_image = probe_path + student + '/' + random.choice(os.listdir(probe_path + student))\n",
    "    watch_list_emb.append(return_embedding(guilty_student_image))\n",
    "    \n",
    "    probe_list_students.remove(student)\n",
    "    \n",
    "    watch_list_students = random.sample(probe_list_students, 4)\n",
    "    \n",
    "    for suspect in watch_list_students:\n",
    "        image = random.choice(os.listdir(probe_path + suspect))\n",
    "        watch_list_images.append(probe_path + suspect + '/' + image)\n",
    "        \n",
    "    for suspect in watch_list_images:\n",
    "        watch_list_emb.append(return_embedding(suspect))\n",
    "    \n",
    "    similarities = [cos_sim(face_embeddings[index], watch_list_emb[i]) for i in range(5)]\n",
    "    \n",
    "    # If the least distance is the first element, let's sum 1\n",
    "    if np.argmin(np.array(similarities)) == 0:\n",
    "        accuracy += 1\n",
    "    else:\n",
    "        error.append(student)\n",
    "        #print('Error happened with student: ' + student)\n",
    "        #print(pd.DataFrame(similarities))\n",
    "        #print('------------------------------------------------')\n",
    "    #print('Student {}/{}'.format(index+1,len(student_pool_list)))\n",
    "    #print('For student ' + student)\n",
    "    #print(pd.DataFrame(similarities))\n",
    "    #print('------------------------------------------------')\n",
    "    \n",
    "print(\"Accuracy: {0:.2f}\".format(accuracy/len(student_pool_list)))\n",
    "print('Error happend with the following students: ')\n",
    "print(error)"
   ]
  }
 ],
 "metadata": {
  "kernelspec": {
   "display_name": "Python 3",
   "language": "python",
   "name": "python3"
  },
  "language_info": {
   "codemirror_mode": {
    "name": "ipython",
    "version": 3
   },
   "file_extension": ".py",
   "mimetype": "text/x-python",
   "name": "python",
   "nbconvert_exporter": "python",
   "pygments_lexer": "ipython3",
   "version": "3.6.8"
  }
 },
 "nbformat": 4,
 "nbformat_minor": 4
}
