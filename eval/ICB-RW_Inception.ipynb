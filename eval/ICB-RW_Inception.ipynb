{
 "cells": [
  {
   "cell_type": "code",
   "execution_count": 1,
   "metadata": {},
   "outputs": [],
   "source": [
    "import torch\n",
    "import glob as gb\n",
    "import numpy as np\n",
    "from PIL import Image\n",
    "import os\n",
    "\n",
    "import random\n",
    "import torch.nn as nn\n",
    "import pandas as pd \n",
    "\n",
    "from numpy import dot\n",
    "from numpy.linalg import norm\n",
    "import matplotlib.pyplot as plt\n",
    "import random\n",
    "\n",
    "from facenet_pytorch import MTCNN, InceptionResnetV1\n",
    "import torchvision.transforms as transforms\n",
    "import torch.backends.cudnn as cudnn\n",
    "\n",
    "os.sys.path.append('../')\n",
    "os.sys.path.append('../models/')\n",
    "from utils.loss import cos_sim\n",
    "\n",
    "random.seed(1)\n",
    "np.random.seed(1)"
   ]
  },
  {
   "cell_type": "code",
   "execution_count": 10,
   "metadata": {},
   "outputs": [],
   "source": [
    "# SR Model Initialization\n",
    "\n",
    "GPU_IN_USE = torch.cuda.is_available()\n",
    "\n",
    "if GPU_IN_USE:\n",
    "    cudnn.benchmark = True\n",
    "    \n",
    "device = torch.device('cuda' if GPU_IN_USE else 'cpu')\n",
    "#model_path = '../checkpoints/SRGAN_x4_epoch_30.pth'\n",
    "model_path = '../checkpoints/SubCNN_coord_x4_epoch_50.pth'\n",
    "\n",
    "model = torch.load(model_path, map_location=lambda storage, loc: storage.cuda(0))\n",
    "model = model.to(device)"
   ]
  },
  {
   "cell_type": "code",
   "execution_count": 25,
   "metadata": {},
   "outputs": [],
   "source": [
    "# Testing upsampling via SR\n",
    "class SuperResolveDL:\n",
    "    def __init__(self, model, size, channel, resize=True):\n",
    "        self.model = model\n",
    "        self.size = size\n",
    "        self.channel = channel\n",
    "        self.resize = resize\n",
    "        \n",
    "    def __call__(self, path=''):\n",
    "        if self.channel == 1:\n",
    "            img = Image.open(path).convert('YCbCr').resize((self.size,self.size),resample=Image.BICUBIC)\n",
    "            upsample, cb, cr = img.split()\n",
    "            if not self.resize:\n",
    "                upsample, _, _ = Image.open(path).convert('YCbCr').split()\n",
    "        elif self.channel == 3:\n",
    "            if self.resize: \n",
    "                upsample = Image.open(path).convert('RGB').resize((self.size,self.size),resample=Image.BICUBIC)\n",
    "            else:\n",
    "                upsample = Image.open(path).convert('RGB')\n",
    "        else:\n",
    "            raise Exception('Channel option not listed')\n",
    "        \n",
    "        data = (transforms.ToTensor()(upsample)).view(1, self.channel, upsample.size[1], upsample.size[0])\n",
    "        data = data.to(device)\n",
    "        out = self.model(data)\n",
    "        out = out.cpu()\n",
    "        out_img = out.data[0].numpy()\n",
    "        out_img *= 255.0\n",
    "        out_img = out_img.clip(0, 255)\n",
    "                \n",
    "        if self.channel == 1:\n",
    "            out_img = Image.fromarray(np.uint8(out_img[0]), mode='L')\n",
    "            out_img = Image.merge('YCbCr', [out_img, cb, cr]).convert('RGB')\n",
    "        \n",
    "        if self.channel == 3:\n",
    "            out_img = out_img.transpose((1,2,0))\n",
    "            out_img = Image.fromarray(np.uint8(out_img), mode='RGB')\n",
    "\n",
    "        return out_img\n",
    "    \n",
    "    \n",
    "# Testing upsampling via Bicubic\n",
    "\n",
    "def load_image(path='', size=160, resize=True): # Bicubic\n",
    "    img = Image.open(path)\n",
    "    if resize:\n",
    "        img = img.resize((size,size), resample=Image.BICUBIC)\n",
    "    return img"
   ]
  },
  {
   "cell_type": "code",
   "execution_count": 26,
   "metadata": {},
   "outputs": [],
   "source": [
    "def return_embedding(img_path):\n",
    "    img_as_tensor = transforms.ToTensor()(load_image(img_path))\n",
    "    img_emb = resnet(img_as_tensor.unsqueeze(0)).squeeze(0).detach().numpy()\n",
    "    return img_emb\n",
    "\n",
    "def return_batch_embedding(imgs_path):\n",
    "    img_array = [transforms.ToTensor()(load_image(path)) for path in imgs_path]\n",
    "    emb_array = [resnet(img.unsqueeze(0)).squeeze(0).detach().numpy() for img in img_array]\n",
    "    return np.array(emb_array)"
   ]
  },
  {
   "cell_type": "code",
   "execution_count": 13,
   "metadata": {},
   "outputs": [],
   "source": [
    "resnet = InceptionResnetV1(pretrained='vggface2').eval()"
   ]
  },
  {
   "cell_type": "code",
   "execution_count": 27,
   "metadata": {},
   "outputs": [
    {
     "data": {
      "image/png": "[encoded data removed]",
      "text/plain": [
       "<PIL.Image.Image image mode=RGB size=160x160 at 0x7F15F84B6358>"
      ]
     },
     "execution_count": 27,
     "metadata": {},
     "output_type": "execute_result"
    }
   ],
   "source": [
    "load_image = SuperResolveDL(model, size=160, channel=1, resize=False)\n",
    "load_image('/media/angelo/DATEN/Datasets/ICB-RW/Margin1.3_40/gallery/003_f.jpg')"
   ]
  },
  {
   "cell_type": "code",
   "execution_count": null,
   "metadata": {
    "scrolled": true
   },
   "outputs": [],
   "source": [
    "def l2_error(a,b):\n",
    "    return sum((a-b)**2) \n",
    "\n",
    "low_res_img_path = '/media/angelo/DATEN/Datasets/CelebA/LR_56/test/018540.jpg'\n",
    "original_img_path = '/media/angelo/DATEN/Datasets/CelebA/HR/test/018540.jpg'\n",
    "test_img_path = '/media/angelo/DATEN/Datasets/CelebA/HR/test/018590.jpg'\n",
    "\n",
    "#low_res = '/media/angelo/DATEN/Datasets/Dados_TCC_Joao/Material TCC/Classe3/Classe/faces_bd/'\n",
    "\n",
    "lr_emb = return_embedding(low_res_img_path)\n",
    "hr_emb = return_embedding(original_img_path)\n",
    "test_emb = return_embedding(test_img_path)\n",
    "\n",
    "print('Identity Loss Fake Img and Real Img')\n",
    "print(cos_sim(lr_emb, hr_emb))\n",
    "\n",
    "print('Euclidean Distance Fake Img and Real Img')\n",
    "print(np.linalg.norm(lr_emb-hr_emb))\n",
    "\n",
    "print('Identity Loss Fake Img and Random Img')\n",
    "print(cos_sim(lr_emb, test_emb))\n",
    "\n",
    "print('Euclidean Distance Fake Img and Random Img')\n",
    "print(np.linalg.norm(lr_emb-test_emb))\n",
    "\n",
    "print('Identity Loss Real Img and Random Img')\n",
    "print(cos_sim(hr_emb, test_emb))\n",
    "\n",
    "print('Euclidean Distance Real Img and Random Img')\n",
    "print(np.linalg.norm(hr_emb-test_emb))"
   ]
  },
  {
   "cell_type": "code",
   "execution_count": 28,
   "metadata": {},
   "outputs": [],
   "source": [
    "img_path = '/media/angelo/DATEN/Datasets/ICB-RW/Margin1.3_40/'\n",
    "\n",
    "gallery_path = gb.glob(img_path + 'gallery/*.jpg')\n",
    "gallery_names = [str(int(os.path.splitext(name)[0][:-2])) for name in os.listdir(img_path + 'gallery/')]\n",
    "\n",
    "face_embeddings = return_batch_embedding(gallery_path)"
   ]
  },
  {
   "cell_type": "code",
   "execution_count": 29,
   "metadata": {},
   "outputs": [
    {
     "name": "stdout",
     "output_type": "stream",
     "text": [
      "For student 12\n",
      "Similarity with his own probe photos: \n",
      "[0.5530152320861816, 0.7702797055244446, 0.6728409230709076, 0.6230230927467346, 0.7614295184612274]\n",
      "Similarity with probe photos of 3\n",
      "[0.9166067466139793, 0.8467821031808853, 0.9796363282948732, 0.8919223323464394, 0.9622587412595749]\n",
      "Similarity with probe photos of 100\n",
      "[0.9622049257159233, 0.8815034031867981, 0.8132278025150299, 0.9554646126925945, 0.9250338077545166]\n",
      "Similarity with probe photos of 101\n",
      "[0.7498618364334106, 0.7203615307807922, 0.8265398442745209, 0.7437231540679932, 0.8852250650525093]\n"
     ]
    }
   ],
   "source": [
    "# Checking consistency\n",
    "\n",
    "probe_path = img_path + 'probe/'\n",
    "student_pool_list = gallery_names\n",
    "\n",
    "real_embedding = return_embedding(img_path + 'gallery/00' + student_pool_list[0] + '_f.jpg')\n",
    "\n",
    "guilty_student_path = gb.glob(probe_path + student_pool_list[0] + '/*.jpg')\n",
    "sample_1_student = gb.glob(probe_path + student_pool_list[1] + '/*.jpg')\n",
    "sample_2_student = gb.glob(probe_path + student_pool_list[2] + '/*.jpg')\n",
    "sample_3_student = gb.glob(probe_path + student_pool_list[3] + '/*.jpg')\n",
    "\n",
    "print('For student ' + student_pool_list[0])\n",
    "print('Similarity with his own probe photos: ')\n",
    "\n",
    "guilty_student_emb = return_batch_embedding(guilty_student_path)\n",
    "similarities = [cos_sim(real_embedding, guilty_student_emb[i]) for i in range(5)]\n",
    "print(similarities)\n",
    "\n",
    "print('Similarity with probe photos of ' + student_pool_list[1])\n",
    "\n",
    "guilty_student_emb = return_batch_embedding(sample_1_student)\n",
    "similarities = [cos_sim(real_embedding, guilty_student_emb[i]) for i in range(5)]\n",
    "print(similarities)\n",
    "\n",
    "print('Similarity with probe photos of ' + student_pool_list[2])\n",
    "\n",
    "guilty_student_emb = return_batch_embedding(sample_2_student)\n",
    "similarities = [cos_sim(real_embedding, guilty_student_emb[i]) for i in range(5)]\n",
    "print(similarities)\n",
    "\n",
    "print('Similarity with probe photos of ' + student_pool_list[3])\n",
    "\n",
    "guilty_student_emb = return_batch_embedding(sample_3_student)\n",
    "similarities = [cos_sim(real_embedding, guilty_student_emb[i]) for i in range(5)]\n",
    "print(similarities)"
   ]
  },
  {
   "cell_type": "code",
   "execution_count": 30,
   "metadata": {},
   "outputs": [
    {
     "name": "stdout",
     "output_type": "stream",
     "text": [
      "Accuracy: 0.64\n",
      "Error happend with the following students: \n",
      "['3', '104', '109', '10', '112', '128', '57', '58', '59', '6', '70', '75', '79', '7', '8', '93', '94', '134', '135', '138', '139', '145', '14', '151', '15', '16', '179', '18', '1', '24', '2', '33']\n",
      "Accuracy: 0.57\n",
      "Error happend with the following students: \n",
      "['3', '100', '102', '10', '112', '113', '115', '11', '121', '128', '49', '4', '57', '58', '6', '70', '75', '76', '7', '81', '8', '91', '93', '96', '131', '137', '138', '13', '144', '145', '14', '15', '162', '167', '16', '18', '24', '25', '35']\n",
      "Accuracy: 0.62\n",
      "Error happend with the following students: \n",
      "['3', '100', '102', '104', '105', '112', '115', '43', '45', '49', '4', '54', '57', '58', '5', '63', '67', '70', '79', '81', '8', '135', '138', '139', '13', '144', '162', '167', '175', '177', '181', '18', '24', '35']\n",
      "Accuracy: 0.63\n",
      "Error happend with the following students: \n",
      "['12', '3', '102', '112', '113', '115', '11', '121', '126', '43', '58', '67', '6', '75', '79', '7', '80', '8', '91', '96', '138', '13', '145', '149', '14', '15', '167', '16', '18', '1', '24', '27', '2']\n",
      "Accuracy: 0.62\n",
      "Error happend with the following students: \n",
      "['12', '100', '102', '105', '10', '112', '11', '121', '123', '46', '4', '54', '58', '59', '70', '8', '90', '93', '98', '137', '138', '13', '145', '148', '15', '167', '177', '188', '1', '24', '2', '33', '34', '35']\n"
     ]
    }
   ],
   "source": [
    "# Experimentation\n",
    "\n",
    "probe_path = img_path + 'probe/'\n",
    "student_pool_list = gallery_names\n",
    "    \n",
    "for _ in range(5): # Execute 5 times to check consistency of results\n",
    "    accuracy = 0\n",
    "    error = []\n",
    "    for index, student in enumerate(student_pool_list):\n",
    "        probe_list_students = student_pool_list.copy()\n",
    "        watch_list_emb = []\n",
    "        watch_list_images = []\n",
    "\n",
    "        # First embeddings is always for the guilty student  \n",
    "        guilty_student_image = probe_path + student + '/' + random.choice(os.listdir(probe_path + student))\n",
    "        watch_list_emb.append(return_embedding(guilty_student_image))\n",
    "\n",
    "        probe_list_students.remove(student)\n",
    "\n",
    "        watch_list_students = random.sample(probe_list_students, 4)\n",
    "\n",
    "        for suspect in watch_list_students:\n",
    "            image = random.choice(os.listdir(probe_path + suspect))\n",
    "            watch_list_images.append(probe_path + suspect + '/' + image)\n",
    "\n",
    "        for suspect in watch_list_images:\n",
    "            watch_list_emb.append(return_embedding(suspect))\n",
    "\n",
    "        similarities = [cos_sim(face_embeddings[index], watch_list_emb[i]) for i in range(5)]\n",
    "\n",
    "        # If the least distance is the first element, let's sum 1\n",
    "        if np.argmin(np.array(similarities)) == 0:\n",
    "            accuracy += 1\n",
    "        else:\n",
    "            error.append(student)\n",
    "            #print('Error happened with student: ' + student)\n",
    "            #print(pd.DataFrame(similarities))\n",
    "            #print('------------------------------------------------')\n",
    "        #print('Student {}/{}'.format(index+1,len(student_pool_list)))\n",
    "        #print('For student ' + student)\n",
    "        #print(pd.DataFrame(similarities))\n",
    "        #print('------------------------------------------------')\n",
    "\n",
    "    print(\"Accuracy: {0:.2f}\".format(accuracy/len(student_pool_list)))\n",
    "    print('Error happend with the following students: ')\n",
    "    print(error)"
   ]
  }
 ],
 "metadata": {
  "kernelspec": {
   "display_name": "Python 3",
   "language": "python",
   "name": "python3"
  },
  "language_info": {
   "codemirror_mode": {
    "name": "ipython",
    "version": 3
   },
   "file_extension": ".py",
   "mimetype": "text/x-python",
   "name": "python",
   "nbconvert_exporter": "python",
   "pygments_lexer": "ipython3",
   "version": "3.6.8"
  }
 },
 "nbformat": 4,
 "nbformat_minor": 4
}
