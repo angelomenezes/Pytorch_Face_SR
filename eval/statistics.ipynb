{
 "cells": [
  {
   "cell_type": "code",
   "execution_count": 1,
   "metadata": {},
   "outputs": [],
   "source": [
    "from scipy.stats import pearsonr,spearmanr\n",
    "import numpy as np\n",
    "import time"
   ]
  },
  {
   "cell_type": "code",
   "execution_count": 133,
   "metadata": {
    "scrolled": true
   },
   "outputs": [
    {
     "name": "stdout",
     "output_type": "stream",
     "text": [
      "numbers27.95\t27.98\t28.08\t28.13\t28.45\t28.88\t28.78\t27.02\t27.28\t26.63\t26.69\t27.93 27.95\t27.98\t28.08\t28.13\t28.45\t28.88\t28.78\t27.02\t27.28\t26.63\t26.69\t27.93 27.95\t27.98\t28.08\t28.13\t28.45\t28.88\t28.78\t27.02\t27.28\t26.63\t26.69\t27.93 27.95\t27.98\t28.08\t28.13\t28.45\t28.88\t28.78\t27.02\t27.28\t26.63\t26.69\t27.93 27.95\t27.98\t28.08\t28.13\t28.45\t28.88\t28.78\t27.02\t27.28\t26.63\t26.69\t27.93 27.95\t27.98\t28.08\t28.13\t28.45\t28.88\t28.78\t27.02\t27.28\t26.63\t26.69\t27.93 27.95\t27.98\t28.08\t28.13\t28.45\t28.88\t28.78\t27.02\t27.28\t26.63\t26.69\t27.93 27.95\t27.98\t28.08\t28.13\t28.45\t28.88\t28.78\t27.02\t27.28\t26.63\t26.69\t27.93 27.95\t27.98\t28.08\t28.13\t28.45\t28.88\t28.78\t27.02\t27.28\t26.63\t26.69\t27.93 27.95\t27.98\t28.08\t28.13\t28.45\t28.88\t28.78\t27.02\t27.28\t26.63\t26.69\t27.93 27.95\t27.98\t28.08\t28.13\t28.45\t28.88\t28.78\t27.02\t27.28\t26.63\t26.69\t27.93 27.95\t27.98\t28.08\t28.13\t28.45\t28.88\t28.78\t27.02\t27.28\t26.63\t26.69\t27.93 27.95\t27.98\t28.08\t28.13\t28.45\t28.88\t28.78\t27.02\t27.28\t26.63\t26.69\t27.93 27.95\t27.98\t28.08\t28.13\t28.45\t28.88\t28.78\t27.02\t27.28\t26.63\t26.69\t27.93 27.95\t27.98\t28.08\t28.13\t28.45\t28.88\t28.78\t27.02\t27.28\t26.63\t26.69\t27.93\n"
     ]
    },
    {
     "data": {
      "text/plain": [
       "180"
      ]
     },
     "execution_count": 133,
     "metadata": {},
     "output_type": "execute_result"
    }
   ],
   "source": [
    "psnr = input('numbers').split()\n",
    "psnr = [float(item) for item in psnr]\n",
    "len(psnr)"
   ]
  },
  {
   "cell_type": "code",
   "execution_count": 134,
   "metadata": {},
   "outputs": [
    {
     "name": "stdout",
     "output_type": "stream",
     "text": [
      "numbers0.7973\t0.7966\t0.8003\t0.8022\t0.8104\t0.8175\t0.8151\t0.8077\t0.8078\t0.8083\t0.7984\t0.7881 0.7973\t0.7966\t0.8003\t0.8022\t0.8104\t0.8175\t0.8151\t0.8077\t0.8078\t0.8083\t0.7984\t0.7881 0.7973\t0.7966\t0.8003\t0.8022\t0.8104\t0.8175\t0.8151\t0.8077\t0.8078\t0.8083\t0.7984\t0.7881 0.7973\t0.7966\t0.8003\t0.8022\t0.8104\t0.8175\t0.8151\t0.8077\t0.8078\t0.8083\t0.7984\t0.7881 0.7973\t0.7966\t0.8003\t0.8022\t0.8104\t0.8175\t0.8151\t0.8077\t0.8078\t0.8083\t0.7984\t0.7881 0.7973\t0.7966\t0.8003\t0.8022\t0.8104\t0.8175\t0.8151\t0.8077\t0.8078\t0.8083\t0.7984\t0.7881 0.7973\t0.7966\t0.8003\t0.8022\t0.8104\t0.8175\t0.8151\t0.8077\t0.8078\t0.8083\t0.7984\t0.7881 0.7973\t0.7966\t0.8003\t0.8022\t0.8104\t0.8175\t0.8151\t0.8077\t0.8078\t0.8083\t0.7984\t0.7881 0.7973\t0.7966\t0.8003\t0.8022\t0.8104\t0.8175\t0.8151\t0.8077\t0.8078\t0.8083\t0.7984\t0.7881 0.7973\t0.7966\t0.8003\t0.8022\t0.8104\t0.8175\t0.8151\t0.8077\t0.8078\t0.8083\t0.7984\t0.7881 0.7973\t0.7966\t0.8003\t0.8022\t0.8104\t0.8175\t0.8151\t0.8077\t0.8078\t0.8083\t0.7984\t0.7881 0.7973\t0.7966\t0.8003\t0.8022\t0.8104\t0.8175\t0.8151\t0.8077\t0.8078\t0.8083\t0.7984\t0.7881 0.7973\t0.7966\t0.8003\t0.8022\t0.8104\t0.8175\t0.8151\t0.8077\t0.8078\t0.8083\t0.7984\t0.7881 0.7973\t0.7966\t0.8003\t0.8022\t0.8104\t0.8175\t0.8151\t0.8077\t0.8078\t0.8083\t0.7984\t0.7881 0.7973\t0.7966\t0.8003\t0.8022\t0.8104\t0.8175\t0.8151\t0.8077\t0.8078\t0.8083\t0.7984\t0.7881\n"
     ]
    },
    {
     "data": {
      "text/plain": [
       "180"
      ]
     },
     "execution_count": 134,
     "metadata": {},
     "output_type": "execute_result"
    }
   ],
   "source": [
    "ssim = input('numbers').split()\n",
    "ssim = [float(item) for item in ssim]\n",
    "len(ssim)"
   ]
  },
  {
   "cell_type": "code",
   "execution_count": 135,
   "metadata": {},
   "outputs": [
    {
     "name": "stdout",
     "output_type": "stream",
     "text": [
      "numbers62.50\t64.58\t68.75\t70.83\t66.67\t66.67\t64.58\t85.42\t81.25\t85.42\t81.25\t58.33 66.67\t70.83\t64.58\t66.67\t72.92\t66.67\t68.75\t81.25\t79.17\t83.33\t81.25\t66.67 83.33\t85.42\t66.67\t68.75\t83.33\t89.58\t89.58\t75.00\t81.25\t83.33\t79.17\t83.33 26.56\t26.56\t23.99\t21.61\t33.88\t31.50\t33.88\t39.01\t38.83\t48.72\t53.66\t26.74 23.99\t31.32\t28.94\t16.85\t26.56\t26.56\t26.56\t45.97\t36.45\t48.72\t38.64\t26.56 58.06\t50.92\t41.39\t43.77\t51.10\t55.86\t55.86\t67.95\t72.71\t67.95\t67.95\t55.49 40.00\t36.67\t40.00\t40.00\t46.67\t46.67\t40.00\t70.00\t76.67\t83.33\t86.67\t46.67 40.00\t56.67\t46.67\t43.33\t43.33\t43.33\t33.33\t63.33\t76.67\t76.67\t80.00\t40.00 66.67\t56.67\t60.00\t60.00\t80.00\t73.33\t80.00\t70.00\t73.33\t70.00\t70.00\t66.67 76.40\t79.80\t65.20\t69.20\t73.00\t79.20\t79.80\t83.80\t83.80\t88.00\t87.60\t83.60 61.40\t63.20\t58.00\t60.60\t62.00\t65.00\t66.80\t77.80\t78.40\t80.60\t81.60\t65.60 70.60\t65.80\t59.40\t61.80\t65.20\t68.80\t68.00\t73.20\t68.80\t75.00\t70.60\t66.60 74.89\t78.22\t64.67\t67.33\t72.00\t78.22\t78.44\t85.78\t83.80\t85.11\t84.89\t83.11 61.78\t62.89\t55.33\t58.44\t60.22\t64.00\t63.33\t77.33\t78.40\t78.22\t76.00\t62.00 64.67\t67.11\t57.56\t62.22\t65.56\t69.11\t67.33\t72.00\t68.90\t71.78\t71.11\t62.44\n"
     ]
    },
    {
     "data": {
      "text/plain": [
       "180"
      ]
     },
     "execution_count": 135,
     "metadata": {},
     "output_type": "execute_result"
    }
   ],
   "source": [
    "accuracy = input('numbers').split()\n",
    "accuracy = [float(item) for item in accuracy]\n",
    "len(accuracy)"
   ]
  },
  {
   "cell_type": "code",
   "execution_count": 136,
   "metadata": {},
   "outputs": [
    {
     "name": "stdout",
     "output_type": "stream",
     "text": [
      "Spearman Correlation PSNR: -0.36259205777530995 with a p value of 5.671739173541496e-07\n",
      "Spearman Correlation SSIM: 0.11588696182293332 with a p value of 0.12133865186529615\n",
      "If p > 0.05 -> Probably independent\n",
      "If p < 0.05 -> Probably have some dependency\n"
     ]
    }
   ],
   "source": [
    "# Spearman Correlation\n",
    "corr, p = spearmanr(psnr, accuracy)\n",
    "\n",
    "print('Spearman Correlation PSNR: {} with a p value of {}'.format(corr, p))\n",
    "\n",
    "corr, p = spearmanr(ssim, accuracy)\n",
    "\n",
    "print('Spearman Correlation SSIM: {} with a p value of {}'.format(corr, p))\n",
    "\n",
    "print('If p > 0.05 -> Probably independent')\n",
    "print('If p < 0.05 -> Probably have some dependency')"
   ]
  },
  {
   "cell_type": "code",
   "execution_count": 155,
   "metadata": {},
   "outputs": [
    {
     "name": "stdout",
     "output_type": "stream",
     "text": [
      "sample1 -> 85.42 81.25 75.00 39.01 45.97 67.95 70.00 63.33 70.00 83.80 77.80 73.20 85.78 77.33 72.00\n",
      "sample2 -> 81.25 79.17 81.25 38.83 36.45 72.71 76.67 76.67 73.33 83.80 78.40 68.80 83.80 78.40 68.90\n",
      "sample3 -> 85.42 83.33 83.33 48.72 48.72 67.95 83.33 76.67 70.00 88.00 80.60 75.00 85.11 78.22 71.78\n",
      "stat=6.982, p=0.030\n",
      "Probably different distributions\n"
     ]
    }
   ],
   "source": [
    "# Friedman Test to check if distribution is the same\n",
    "# SRGAN results ICB-RW\n",
    "\n",
    "from scipy.stats import friedmanchisquare\n",
    "\n",
    "sample1 = input('sample1 -> ').split()\n",
    "sample1 = [float(item) for item in sample1]\n",
    "\n",
    "sample2 = input('sample2 -> ').split()\n",
    "sample2 = [float(item) for item in sample2]\n",
    "\n",
    "sample3 = input('sample3 -> ').split()\n",
    "sample3 = [float(item) for item in sample3]\n",
    "\n",
    "stat, p = friedmanchisquare(sample1, sample2, sample3)\n",
    "\n",
    "print('stat=%.3f, p=%.3f' % (stat, p))\n",
    "if p > 0.05:\n",
    "    print('Probably the same distribution')\n",
    "else:\n",
    "    print('Probably different distributions')"
   ]
  },
  {
   "cell_type": "code",
   "execution_count": 163,
   "metadata": {
    "scrolled": true
   },
   "outputs": [
    {
     "name": "stdout",
     "output_type": "stream",
     "text": [
      "sample1 -> 66.67 66.67 89.58 31.50 26.56 55.86 46.67 43.33 73.33 79.20 65.00 68.80 78.22 64.00 69.11 85.42 81.25 75.00 39.01 45.97 67.95 70.00 63.33 70.00 83.80 77.80 73.20 85.78 77.33 72.00 81.25 79.17 81.25 38.83 36.45 72.71 76.67 76.67 73.33 83.80 78.40 68.80 83.80 78.40 68.90\n",
      "sample2 -> 64.58 68.75 89.58 33.88 26.56 55.86 40.00 33.33 80.00 79.80 66.80 68.00 78.44 63.33 67.33 85.42 83.33 83.33 48.72 48.72 67.95 83.33 76.67 70.00 88.00 80.60 75.00 85.11 78.22 71.78 81.25 81.25 79.17 53.66 38.64 67.95 86.67 80.00 70.00 87.60 81.60 70.60 84.89 76.00 71.11\n",
      "stat=197.500, p=0.012\n",
      "Probably different distributions\n"
     ]
    }
   ],
   "source": [
    "# Wilcox Signed Test-Rank for checking if classifiers accuracy have same distribution\n",
    "from scipy.stats import wilcoxon\n",
    "\n",
    "sample1 = input('sample1 -> ').split()\n",
    "sample1 = [float(item) for item in sample1]\n",
    "\n",
    "sample2 = input('sample2 -> ').split()\n",
    "sample2 = [float(item) for item in sample2]\n",
    "\n",
    "stat, p = wilcoxon(sample1, sample2)\n",
    "print('stat=%.3f, p=%.3f' % (stat, p))\n",
    "if p > 0.05:\n",
    "    print('Probably the same distribution')\n",
    "else:\n",
    "    print('Probably different distributions')"
   ]
  }
 ],
 "metadata": {
  "kernelspec": {
   "display_name": "Python 3",
   "language": "python",
   "name": "python3"
  },
  "language_info": {
   "codemirror_mode": {
    "name": "ipython",
    "version": 3
   },
   "file_extension": ".py",
   "mimetype": "text/x-python",
   "name": "python",
   "nbconvert_exporter": "python",
   "pygments_lexer": "ipython3",
   "version": "3.6.8"
  }
 },
 "nbformat": 4,
 "nbformat_minor": 4
}
