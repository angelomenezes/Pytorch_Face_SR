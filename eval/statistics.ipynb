{
 "cells": [
  {
   "cell_type": "code",
   "execution_count": 13,
   "metadata": {},
   "outputs": [],
   "source": [
    "from scipy.stats import pearsonr,spearmanr\n",
    "import numpy as np"
   ]
  },
  {
   "cell_type": "code",
   "execution_count": 14,
   "metadata": {},
   "outputs": [
    {
     "name": "stdin",
     "output_type": "stream",
     "text": [
      "numbers 27.95\t27.98\t28.08\t28.13\t28.45\t28.88\t28.78\t27.02\t26.63\t26.69\t27.93\n"
     ]
    },
    {
     "data": {
      "text/plain": [
       "[27.95, 27.98, 28.08, 28.13, 28.45, 28.88, 28.78, 27.02, 26.63, 26.69, 27.93]"
      ]
     },
     "execution_count": 14,
     "metadata": {},
     "output_type": "execute_result"
    }
   ],
   "source": [
    "psnr = input('numbers').split()\n",
    "psnr = [float(item) for item in psnr]\n",
    "psnr"
   ]
  },
  {
   "cell_type": "code",
   "execution_count": 15,
   "metadata": {},
   "outputs": [
    {
     "name": "stdin",
     "output_type": "stream",
     "text": [
      "numbers 0.7973\t0.7966\t0.8003\t0.8022\t0.8104\t0.8175\t0.8151\t0.8077\t0.8083\t0.7984\t0.7881\n"
     ]
    },
    {
     "data": {
      "text/plain": [
       "[0.7973,\n",
       " 0.7966,\n",
       " 0.8003,\n",
       " 0.8022,\n",
       " 0.8104,\n",
       " 0.8175,\n",
       " 0.8151,\n",
       " 0.8077,\n",
       " 0.8083,\n",
       " 0.7984,\n",
       " 0.7881]"
      ]
     },
     "execution_count": 15,
     "metadata": {},
     "output_type": "execute_result"
    }
   ],
   "source": [
    "ssim = input('numbers').split()\n",
    "ssim = [float(item) for item in ssim]\n",
    "ssim"
   ]
  },
  {
   "cell_type": "code",
   "execution_count": 20,
   "metadata": {},
   "outputs": [
    {
     "name": "stdin",
     "output_type": "stream",
     "text": [
      "numbers 62.5 64.58 68.75 70.83 66.67 66.67 64.58 85.42 85.42 81.25 58.33\n"
     ]
    },
    {
     "data": {
      "text/plain": [
       "[62.5, 64.58, 68.75, 70.83, 66.67, 66.67, 64.58, 85.42, 85.42, 81.25, 58.33]"
      ]
     },
     "execution_count": 20,
     "metadata": {},
     "output_type": "execute_result"
    }
   ],
   "source": [
    "accuracy = input('numbers').split()\n",
    "accuracy = [float(item) for item in accuracy]\n",
    "accuracy"
   ]
  },
  {
   "cell_type": "code",
   "execution_count": 25,
   "metadata": {},
   "outputs": [
    {
     "name": "stdout",
     "output_type": "stream",
     "text": [
      "Correlation: 0.36156458409374664 with a p value of 0.2745826161907736\n"
     ]
    }
   ],
   "source": [
    "# Spearman Correlation\n",
    "corr, p = spearmanr(ssim, accuracy)\n",
    "\n",
    "print('Spearman Correlation: {} with a p value of {}'.format(corr, p))"
   ]
  },
  {
   "cell_type": "code",
   "execution_count": 28,
   "metadata": {},
   "outputs": [
    {
     "name": "stdout",
     "output_type": "stream",
     "text": [
      "Pearson Correlation: -0.7973871099846264 with a p value of 0.0032842139273643028\n"
     ]
    }
   ],
   "source": [
    "# Pearson Correlation\n",
    "corr, p = pearsonr(psnr, accuracy)\n",
    "\n",
    "print('Pearson Correlation: {} with a p value of {}'.format(corr, p))"
   ]
  }
 ],
 "metadata": {
  "kernelspec": {
   "display_name": "Python 3",
   "language": "python",
   "name": "python3"
  },
  "language_info": {
   "codemirror_mode": {
    "name": "ipython",
    "version": 3
   },
   "file_extension": ".py",
   "mimetype": "text/x-python",
   "name": "python",
   "nbconvert_exporter": "python",
   "pygments_lexer": "ipython3",
   "version": "3.6.8"
  }
 },
 "nbformat": 4,
 "nbformat_minor": 4
}
