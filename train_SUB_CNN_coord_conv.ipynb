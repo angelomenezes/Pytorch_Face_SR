{
 "cells": [
  {
   "cell_type": "code",
   "execution_count": 1,
   "metadata": {},
   "outputs": [],
   "source": [
    "from math import log10\n",
    "import matplotlib.pyplot as plt\n",
    "import numpy as np\n",
    "\n",
    "import pandas as pd\n",
    "import os\n",
    "\n",
    "import torch\n",
    "import torch.nn as nn\n",
    "import torch.optim as optim\n",
    "from torch.utils.data import DataLoader\n",
    "from dataset.super_resolution_data_loader import *\n",
    "from SUB_CNN_coord_conv import Net\n",
    "from pytorch_ssim import *\n",
    "\n",
    "torch.manual_seed(1)\n",
    "device = torch.device(\"cuda\")"
   ]
  },
  {
   "cell_type": "code",
   "execution_count": 2,
   "metadata": {},
   "outputs": [],
   "source": [
    "# SubPixelCNN CoordConv parameters\n",
    "\n",
    "batch_size = 32\n",
    "epochs = 40\n",
    "lr = 0.01\n",
    "threads = 4\n",
    "upscale_factor = 4"
   ]
  },
  {
   "cell_type": "code",
   "execution_count": 3,
   "metadata": {},
   "outputs": [],
   "source": [
    "#img_path_low = '/media/angelo/DATEN/Datasets/Experiment_Masters/300W-3D-crap-56/train'\n",
    "#img_path_ref = '/media/angelo/DATEN/Datasets/Experiment_Masters/300W-3D-low-res-224/train'\n",
    "\n",
    "img_path_low = '/media/angelo/DATEN/Datasets/CelebA/LR_56/test/'\n",
    "img_path_ref = '/media/angelo/DATEN/Datasets/CelebA/HR/test/'\n",
    "\n",
    "#img_path_low = '../dataset/300W-3D-crap-56/train'\n",
    "#img_path_ref = '../dataset/300W-3D-low-res-224/train'\n",
    "\n",
    "train_set = DatasetSuperRes(img_path_low, img_path_ref)\n",
    "training_data_loader = DataLoader(dataset=train_set, num_workers=threads, batch_size=batch_size, shuffle=True)"
   ]
  },
  {
   "cell_type": "code",
   "execution_count": 4,
   "metadata": {},
   "outputs": [
    {
     "name": "stdout",
     "output_type": "stream",
     "text": [
      "===> Building model\n"
     ]
    }
   ],
   "source": [
    "print('===> Building model')\n",
    "model = Net(upscale_factor=upscale_factor).to(device)\n",
    "criterion = nn.MSELoss()\n",
    "\n",
    "optimizer = optim.Adam(model.parameters(), lr=lr)\n",
    "scheduler = optim.lr_scheduler.StepLR(optimizer, step_size=10, gamma=0.2)"
   ]
  },
  {
   "cell_type": "code",
   "execution_count": 5,
   "metadata": {},
   "outputs": [],
   "source": [
    "out_path = 'results/'\n",
    "out_model_path = 'models/'\n",
    "\n",
    "if not os.path.exists(out_path):\n",
    "    os.makedirs(out_path)    \n",
    "\n",
    "if not os.path.exists(out_model_path):\n",
    "    os.makedirs(out_model_path)   \n",
    "    \n",
    "results = {'avg_loss': [], 'psnr': [], 'ssim': []}"
   ]
  },
  {
   "cell_type": "code",
   "execution_count": 7,
   "metadata": {},
   "outputs": [],
   "source": [
    "def train(epoch):\n",
    "    epoch_loss = 0\n",
    "    model.train()\n",
    "    for iteration, batch in enumerate(training_data_loader, 1):\n",
    "        input_, target = batch[0].to(device), batch[1].to(device)\n",
    "        \n",
    "        optimizer.zero_grad()\n",
    "        upsampled_img = model(input_)\n",
    "        loss = criterion(upsampled_img, target)\n",
    "        epoch_loss += loss.item()\n",
    "        loss.backward()\n",
    "        optimizer.step()\n",
    "\n",
    "        #print(\"===> Epoch[{}]({}/{}): Loss: {:.4f}\".format(epoch, iteration, len(training_data_loader), loss.item()))\n",
    "    \n",
    "    scheduler.step() # Decrease learning rate after 100 epochs to 10% of its value\n",
    "    \n",
    "    psnr_epoch = 10*log10(1/(epoch_loss / len(training_data_loader)))\n",
    "    ssim_epoch = ssim(upsampled_img, target).item()\n",
    "    avg_loss_batch = epoch_loss/len(training_data_loader)\n",
    "    \n",
    "    results['psnr'].append(psnr_epoch)\n",
    "    results['ssim'].append(ssim_epoch)\n",
    "    results['avg_loss'].append(avg_loss_batch)\n",
    "    \n",
    "    print(\"===> Epoch {} Complete: Avg. Loss: {:.4f} / PSNR: {:.4f} / SSIM {:.4f}\".format(epoch, \n",
    "                                                                                          avg_loss_batch, \n",
    "                                                                                          psnr_epoch,\n",
    "                                                                                          ssim_epoch))\n",
    "    if epoch % (epochs // 2) == 0:\n",
    "    \n",
    "        data_frame = pd.DataFrame(\n",
    "                data={'Avg. Loss': results['avg_loss'], 'PSNR': results['psnr'], 'SSIM': results['ssim']},\n",
    "                index=range(1, epoch + 1))\n",
    "\n",
    "        data_frame.to_csv(out_path + 'SubCNN_coor_dx' + str(upscale_factor) + '_train_results.csv', index_label='Epoch')\n",
    "        \n",
    "        checkpoint(epoch)\n",
    "\n",
    "def checkpoint(epoch):\n",
    "    path = out_model_path + \"SubCNN_coord_x{}_epoch_{}.pth\".format(upscale_factor, epoch)\n",
    "    torch.save(model, path)\n",
    "    print(\"Checkpoint saved to {}\".format(path))"
   ]
  },
  {
   "cell_type": "code",
   "execution_count": 8,
   "metadata": {},
   "outputs": [
    {
     "name": "stdout",
     "output_type": "stream",
     "text": [
      "===> Epoch 1 Complete: Avg. Loss: 0.1603 / PSNR: 7.9496 / SSIM 0.5121\n",
      "===> Epoch 2 Complete: Avg. Loss: 0.0081 / PSNR: 20.9015 / SSIM 0.6369\n",
      "===> Epoch 3 Complete: Avg. Loss: 0.0049 / PSNR: 23.1270 / SSIM 0.6762\n",
      "===> Epoch 4 Complete: Avg. Loss: 0.0040 / PSNR: 24.0202 / SSIM 0.7329\n",
      "===> Epoch 5 Complete: Avg. Loss: 0.0034 / PSNR: 24.6359 / SSIM 0.7764\n",
      "===> Epoch 6 Complete: Avg. Loss: 0.0027 / PSNR: 25.6132 / SSIM 0.7840\n",
      "===> Epoch 7 Complete: Avg. Loss: 0.0025 / PSNR: 25.9942 / SSIM 0.7810\n",
      "===> Epoch 8 Complete: Avg. Loss: 0.0023 / PSNR: 26.3666 / SSIM 0.7905\n",
      "===> Epoch 9 Complete: Avg. Loss: 0.0022 / PSNR: 26.5097 / SSIM 0.8268\n",
      "===> Epoch 10 Complete: Avg. Loss: 0.0019 / PSNR: 27.1667 / SSIM 0.8163\n",
      "===> Epoch 11 Complete: Avg. Loss: 0.0018 / PSNR: 27.5687 / SSIM 0.8272\n",
      "===> Epoch 12 Complete: Avg. Loss: 0.0017 / PSNR: 27.6556 / SSIM 0.8248\n",
      "===> Epoch 13 Complete: Avg. Loss: 0.0017 / PSNR: 27.7012 / SSIM 0.8053\n",
      "===> Epoch 14 Complete: Avg. Loss: 0.0017 / PSNR: 27.7569 / SSIM 0.7778\n",
      "===> Epoch 15 Complete: Avg. Loss: 0.0016 / PSNR: 27.8263 / SSIM 0.7879\n",
      "===> Epoch 16 Complete: Avg. Loss: 0.0016 / PSNR: 27.8902 / SSIM 0.8201\n",
      "===> Epoch 17 Complete: Avg. Loss: 0.0016 / PSNR: 27.9344 / SSIM 0.8070\n",
      "===> Epoch 18 Complete: Avg. Loss: 0.0016 / PSNR: 27.9795 / SSIM 0.8288\n",
      "===> Epoch 19 Complete: Avg. Loss: 0.0016 / PSNR: 28.0214 / SSIM 0.7927\n",
      "===> Epoch 20 Complete: Avg. Loss: 0.0016 / PSNR: 28.0708 / SSIM 0.8104\n",
      "Checkpoint saved to models/SubCNN_coord_x4_epoch_20.pth\n",
      "===> Epoch 21 Complete: Avg. Loss: 0.0015 / PSNR: 28.1157 / SSIM 0.8353\n",
      "===> Epoch 22 Complete: Avg. Loss: 0.0015 / PSNR: 28.1323 / SSIM 0.8159\n",
      "===> Epoch 23 Complete: Avg. Loss: 0.0015 / PSNR: 28.1641 / SSIM 0.8250\n",
      "===> Epoch 24 Complete: Avg. Loss: 0.0015 / PSNR: 28.1942 / SSIM 0.8067\n",
      "===> Epoch 25 Complete: Avg. Loss: 0.0015 / PSNR: 28.2095 / SSIM 0.7969\n",
      "===> Epoch 26 Complete: Avg. Loss: 0.0015 / PSNR: 28.2319 / SSIM 0.8097\n",
      "===> Epoch 27 Complete: Avg. Loss: 0.0015 / PSNR: 28.2524 / SSIM 0.8265\n",
      "===> Epoch 28 Complete: Avg. Loss: 0.0015 / PSNR: 28.2724 / SSIM 0.8367\n",
      "===> Epoch 29 Complete: Avg. Loss: 0.0015 / PSNR: 28.2901 / SSIM 0.8430\n",
      "===> Epoch 30 Complete: Avg. Loss: 0.0015 / PSNR: 28.2932 / SSIM 0.7924\n",
      "===> Epoch 31 Complete: Avg. Loss: 0.0015 / PSNR: 28.3075 / SSIM 0.8276\n",
      "===> Epoch 32 Complete: Avg. Loss: 0.0015 / PSNR: 28.3145 / SSIM 0.8429\n",
      "===> Epoch 33 Complete: Avg. Loss: 0.0015 / PSNR: 28.3181 / SSIM 0.8430\n",
      "===> Epoch 34 Complete: Avg. Loss: 0.0015 / PSNR: 28.3196 / SSIM 0.8340\n",
      "===> Epoch 35 Complete: Avg. Loss: 0.0015 / PSNR: 28.3155 / SSIM 0.8085\n",
      "===> Epoch 36 Complete: Avg. Loss: 0.0015 / PSNR: 28.3286 / SSIM 0.8094\n",
      "===> Epoch 37 Complete: Avg. Loss: 0.0015 / PSNR: 28.3308 / SSIM 0.8152\n",
      "===> Epoch 38 Complete: Avg. Loss: 0.0015 / PSNR: 28.3506 / SSIM 0.8161\n",
      "===> Epoch 39 Complete: Avg. Loss: 0.0015 / PSNR: 28.3728 / SSIM 0.8271\n",
      "===> Epoch 40 Complete: Avg. Loss: 0.0014 / PSNR: 28.3904 / SSIM 0.8475\n",
      "Checkpoint saved to models/SubCNN_coord_x4_epoch_40.pth\n"
     ]
    }
   ],
   "source": [
    "for epoch in range(1, epochs + 1):\n",
    "    train(epoch)"
   ]
  }
 ],
 "metadata": {
  "kernelspec": {
   "display_name": "Python 3",
   "language": "python",
   "name": "python3"
  },
  "language_info": {
   "codemirror_mode": {
    "name": "ipython",
    "version": 3
   },
   "file_extension": ".py",
   "mimetype": "text/x-python",
   "name": "python",
   "nbconvert_exporter": "python",
   "pygments_lexer": "ipython3",
   "version": "3.6.8"
  }
 },
 "nbformat": 4,
 "nbformat_minor": 4
}
