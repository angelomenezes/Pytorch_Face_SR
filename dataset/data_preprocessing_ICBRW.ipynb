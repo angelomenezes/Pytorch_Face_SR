{
 "cells": [
  {
   "cell_type": "code",
   "execution_count": 1,
   "metadata": {},
   "outputs": [],
   "source": [
    "import matplotlib.pyplot as plt\n",
    "import numpy as np\n",
    "import os\n",
    "import dlib\n",
    "import cv2\n",
    "import glob as gb\n",
    "from facenet_pytorch import MTCNN, extract_face\n",
    "\n",
    "os.sys.path.append('../')\n",
    "\n",
    "from PIL import Image\n",
    "from utils .align import AlignDlib\n",
    "\n",
    "# To compile dlib\n",
    "# sudo apt install -y cmake\n",
    "# pip install dlib"
   ]
  },
  {
   "cell_type": "code",
   "execution_count": 2,
   "metadata": {},
   "outputs": [],
   "source": [
    "root_data = '/media/angelo/DATEN/Datasets/ICB-RW/'\n",
    "\n",
    "# Recent fix to identify folders with organized data\n",
    "list_of_people = [str(i) for i in range(1,189)]\n",
    "\n",
    "with open(root_data + 'failures.txt') as f:\n",
    "    failures = [line.rstrip('\\n') for line in f]\n",
    "    \n",
    "list_of_people = [x for x in list_of_people if x not in failures]"
   ]
  },
  {
   "cell_type": "code",
   "execution_count": null,
   "metadata": {},
   "outputs": [
    {
     "name": "stdout",
     "output_type": "stream",
     "text": [
      "Processed subject 1/90\n",
      "Processed subject 2/90\n",
      "Processed subject 3/90\n",
      "Processed subject 4/90\n",
      "Processed subject 5/90\n",
      "Processed subject 6/90\n",
      "Processed subject 7/90\n",
      "Processed subject 8/90\n",
      "Processed subject 9/90\n",
      "Processed subject 10/90\n"
     ]
    }
   ],
   "source": [
    "# Let's process every probe and watch-list picture and create a folder for their faces\n",
    "\n",
    "mtcnn = MTCNN(keep_all=True)\n",
    "\n",
    "for i, subject in enumerate(list_of_people):\n",
    "    \n",
    "    face_id = '00' + subject + '_'\n",
    "    gallery_faces_path = root_data + 'gallery/'\n",
    "    probe_faces_path = root_data + 'probe/'\n",
    "    probe_counter = 1\n",
    "    \n",
    "    if not os.path.exists(gallery_faces_path):\n",
    "        os.mkdir(gallery_faces_path) \n",
    "    \n",
    "    if not os.path.exists(probe_faces_path):\n",
    "        os.mkdir(probe_faces_path) \n",
    "    \n",
    "    for image in os.listdir(probe_faces_path + subject):\n",
    "        \n",
    "        image_name = os.path.splitext(image)[0]\n",
    "        image_path = probe_faces_path + subject + '/' + image\n",
    "        image_RGB = Image.open(image_path)\n",
    "        \n",
    "        faces, _ = mtcnn.detect(image_RGB)\n",
    "        isEmpty = (str(type(faces)) == \"<class 'NoneType'>\")\n",
    "\n",
    "        if isEmpty: # Checking if faces were detected\n",
    "            print('Subject ' + face_id + ' not complete.')\n",
    "\n",
    "        if not isEmpty: \n",
    "            if image_name in ['f','F']:\n",
    "                extract_face(image_RGB, faces[0], image_resize=False,\n",
    "                             save_path=gallery_faces_path + face_id + str(image_name).lower() + '.jpg')\n",
    "            else:\n",
    "                extract_face(image_RGB, faces[0], image_resize=False,\n",
    "                             save_path=probe_faces_path + subject + '/' + face_id + str(probe_counter) + '.jpg')\n",
    "                probe_counter+=1\n",
    "\n",
    "    print('Processed subject {}/{}'.format(i+1,len(list_of_people)))"
   ]
  },
  {
   "cell_type": "code",
   "execution_count": null,
   "metadata": {
    "jupyter": {
     "source_hidden": true
    }
   },
   "outputs": [],
   "source": [
    "# Alternative\n",
    "\n",
    "# Let's process every probe and watch-list picture and create a folder for their faces\n",
    "\n",
    "# DLIB detection\n",
    "detector = dlib.get_frontal_face_detector()\n",
    "\n",
    "for i, subject in enumerate(list_of_people):\n",
    "    \n",
    "    face_id = '00' + subject + '_'\n",
    "    gallery_faces_path = root_data + 'gallery/'\n",
    "    probe_faces_path = root_data + 'probe/'\n",
    "    probe_counter = 0 # For naming according to ICB_RW official data \n",
    "    \n",
    "    if not os.path.exists(gallery_faces_path):\n",
    "        os.mkdir(gallery_faces_path) \n",
    "    \n",
    "    if not os.path.exists(probe_faces_path):\n",
    "        os.mkdir(probe_faces_path) \n",
    "    \n",
    "    for image in os.listdir(root_data + subject):\n",
    "        \n",
    "        image_name = os.path.splitext(image)[0]\n",
    "        image_RGB = dlib.load_rgb_image(root_data + subject + '/' + image)\n",
    "        faces = detector(image_RGB, 1)\n",
    "        for face in faces: # We have only one face per image\n",
    "            if image_name in ['f','r','l']:\n",
    "                cv2.imwrite(gallery_faces_path + face_id + image_name + '.jpg', \n",
    "                            image_RGB[face.top():face.bottom(), \n",
    "                                   face.left():face.right()][...,::-1])\n",
    "            else:\n",
    "                probe_counter += 1\n",
    "                cv2.imwrite(probe_faces_path + face_id + str(probe_counter) + '.jpg', \n",
    "                            image_RGB[face.top():face.bottom(), \n",
    "                                   face.left():face.right()][...,::-1])\n",
    "    break"
   ]
  }
 ],
 "metadata": {
  "kernelspec": {
   "display_name": "Python 3",
   "language": "python",
   "name": "python3"
  },
  "language_info": {
   "codemirror_mode": {
    "name": "ipython",
    "version": 3
   },
   "file_extension": ".py",
   "mimetype": "text/x-python",
   "name": "python",
   "nbconvert_exporter": "python",
   "pygments_lexer": "ipython3",
   "version": "3.6.8"
  }
 },
 "nbformat": 4,
 "nbformat_minor": 4
}
