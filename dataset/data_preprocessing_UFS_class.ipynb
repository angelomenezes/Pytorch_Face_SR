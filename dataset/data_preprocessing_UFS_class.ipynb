{
 "cells": [
  {
   "cell_type": "code",
   "execution_count": 1,
   "metadata": {},
   "outputs": [],
   "source": [
    "import matplotlib.pyplot as plt\n",
    "import numpy as np\n",
    "import os\n",
    "import cv2\n",
    "from PIL import Image\n",
    "import time\n",
    "import dlib\n",
    "\n",
    "# To compile dlib\n",
    "# sudo apt install -y cmake\n",
    "# pip install dlib\n",
    "\n",
    "from facenet_pytorch import MTCNN, extract_face"
   ]
  },
  {
   "cell_type": "code",
   "execution_count": 17,
   "metadata": {},
   "outputs": [],
   "source": [
    "# MTCNN for gallery images\n",
    "\n",
    "root_data = '/media/angelo/DATEN/Datasets/Dados_TCC_Joao/Material TCC/Classe5/BD/'\n",
    "list_of_students = os.listdir(root_data)\n",
    "name_id = ''\n",
    "mtcnn = MTCNN(keep_all=True)\n",
    "\n",
    "face_database_path = '/media/angelo/DATEN/Datasets/Dados_TCC_Joao/Material TCC/Classe5/Classe/faces_bd/'\n",
    "    \n",
    "if not os.path.exists(face_database_path):\n",
    "    os.mkdir(face_database_path) # Create a folder to save database images\n",
    "\n",
    "for i, student in enumerate(list_of_students):\n",
    "        \n",
    "    student_img = Image.open(root_data + student).resize((224,224))\n",
    "    \n",
    "    begin_counter = time.time()\n",
    "    faces, _ = mtcnn.detect(student_img)\n",
    "    end_counter = time.time()\n",
    "    \n",
    "    if i <= 10:\n",
    "        name_id = '0' + str(i+1)\n",
    "    else:\n",
    "        name_id = str(i+1)\n",
    "    #print(\"Seconds for face detection =\", end_counter - begin_counter)\n",
    "    extract_face(student_img, faces[0], image_resize=False,\n",
    "                     save_path=face_database_path + name_id + '_' + student)"
   ]
  },
  {
   "cell_type": "code",
   "execution_count": 19,
   "metadata": {},
   "outputs": [
    {
     "ename": "IsADirectoryError",
     "evalue": "[Errno 21] Is a directory: '/media/angelo/DATEN/Datasets/Dados_TCC_Joao/Material TCC/Classe5/Classe/WebCam - 1.2MP/Classe_1'",
     "output_type": "error",
     "traceback": [
      "\u001b[0;31m---------------------------------------------------------------------------\u001b[0m",
      "\u001b[0;31mIsADirectoryError\u001b[0m                         Traceback (most recent call last)",
      "\u001b[0;32m<ipython-input-19-7e21d47ae2ca>\u001b[0m in \u001b[0;36m<module>\u001b[0;34m\u001b[0m\n\u001b[1;32m     14\u001b[0m         \u001b[0mos\u001b[0m\u001b[0;34m.\u001b[0m\u001b[0mmkdir\u001b[0m\u001b[0;34m(\u001b[0m\u001b[0mclass_faces_path\u001b[0m\u001b[0;34m)\u001b[0m \u001b[0;31m# Create a folder for each class with its detected faces\u001b[0m\u001b[0;34m\u001b[0m\u001b[0;34m\u001b[0m\u001b[0m\n\u001b[1;32m     15\u001b[0m \u001b[0;34m\u001b[0m\u001b[0m\n\u001b[0;32m---> 16\u001b[0;31m     \u001b[0mclass_img\u001b[0m \u001b[0;34m=\u001b[0m \u001b[0mImage\u001b[0m\u001b[0;34m.\u001b[0m\u001b[0mopen\u001b[0m\u001b[0;34m(\u001b[0m\u001b[0mroot_data\u001b[0m \u001b[0;34m+\u001b[0m \u001b[0mclasse\u001b[0m\u001b[0;34m)\u001b[0m\u001b[0;34m\u001b[0m\u001b[0;34m\u001b[0m\u001b[0m\n\u001b[0m\u001b[1;32m     17\u001b[0m \u001b[0;34m\u001b[0m\u001b[0m\n\u001b[1;32m     18\u001b[0m     \u001b[0mbegin_counter\u001b[0m \u001b[0;34m=\u001b[0m \u001b[0mtime\u001b[0m\u001b[0;34m.\u001b[0m\u001b[0mtime\u001b[0m\u001b[0;34m(\u001b[0m\u001b[0;34m)\u001b[0m\u001b[0;34m\u001b[0m\u001b[0;34m\u001b[0m\u001b[0m\n",
      "\u001b[0;32m~/Desktop/Github/virtual_envs/image_app/lib/python3.6/site-packages/PIL/Image.py\u001b[0m in \u001b[0;36mopen\u001b[0;34m(fp, mode)\u001b[0m\n\u001b[1;32m   2768\u001b[0m \u001b[0;34m\u001b[0m\u001b[0m\n\u001b[1;32m   2769\u001b[0m     \u001b[0;32mif\u001b[0m \u001b[0mfilename\u001b[0m\u001b[0;34m:\u001b[0m\u001b[0;34m\u001b[0m\u001b[0;34m\u001b[0m\u001b[0m\n\u001b[0;32m-> 2770\u001b[0;31m         \u001b[0mfp\u001b[0m \u001b[0;34m=\u001b[0m \u001b[0mbuiltins\u001b[0m\u001b[0;34m.\u001b[0m\u001b[0mopen\u001b[0m\u001b[0;34m(\u001b[0m\u001b[0mfilename\u001b[0m\u001b[0;34m,\u001b[0m \u001b[0;34m\"rb\"\u001b[0m\u001b[0;34m)\u001b[0m\u001b[0;34m\u001b[0m\u001b[0;34m\u001b[0m\u001b[0m\n\u001b[0m\u001b[1;32m   2771\u001b[0m         \u001b[0mexclusive_fp\u001b[0m \u001b[0;34m=\u001b[0m \u001b[0;32mTrue\u001b[0m\u001b[0;34m\u001b[0m\u001b[0;34m\u001b[0m\u001b[0m\n\u001b[1;32m   2772\u001b[0m \u001b[0;34m\u001b[0m\u001b[0m\n",
      "\u001b[0;31mIsADirectoryError\u001b[0m: [Errno 21] Is a directory: '/media/angelo/DATEN/Datasets/Dados_TCC_Joao/Material TCC/Classe5/Classe/WebCam - 1.2MP/Classe_1'"
     ]
    }
   ],
   "source": [
    "# MTCNN for probe images\n",
    "\n",
    "#root_data = '/media/angelo/DATEN/Datasets/Dataset_UFS_Class/teste/'\n",
    "root_data = '/media/angelo/DATEN/Datasets/Dados_TCC_Joao/Material TCC/Classe5/Classe/WebCam - 1.2MP/'\n",
    "\n",
    "list_of_classes = os.listdir(root_data)\n",
    "\n",
    "mtcnn = MTCNN(keep_all=True)\n",
    "\n",
    "for i, classe in enumerate(list_of_classes):\n",
    "    class_faces_path = root_data + os.path.splitext(classe)[0] + '/'\n",
    "    \n",
    "    if not os.path.exists(class_faces_path):\n",
    "        os.mkdir(class_faces_path) # Create a folder for each class with its detected faces\n",
    "        \n",
    "    class_img = Image.open(root_data + classe)\n",
    "    \n",
    "    begin_counter = time.time()\n",
    "    faces, _ = mtcnn.detect(class_img)\n",
    "    end_counter = time.time()\n",
    "    \n",
    "    print(\"Seconds for face detection =\", end_counter - begin_counter)\n",
    "    \n",
    "    print(\"Number of faces detected in {}: {}\".format(os.path.splitext(classe)[0], len(faces)))\n",
    "    for j, face in enumerate(faces):\n",
    "        extract_face(class_img, face, image_resize=False,\n",
    "                     save_path=class_faces_path + 'Face_' + str(j+1) + '_Class_' + str(i+1) + '.jpg')"
   ]
  }
 ],
 "metadata": {
  "kernelspec": {
   "display_name": "Python 3",
   "language": "python",
   "name": "python3"
  },
  "language_info": {
   "codemirror_mode": {
    "name": "ipython",
    "version": 3
   },
   "file_extension": ".py",
   "mimetype": "text/x-python",
   "name": "python",
   "nbconvert_exporter": "python",
   "pygments_lexer": "ipython3",
   "version": "3.6.8"
  }
 },
 "nbformat": 4,
 "nbformat_minor": 4
}
