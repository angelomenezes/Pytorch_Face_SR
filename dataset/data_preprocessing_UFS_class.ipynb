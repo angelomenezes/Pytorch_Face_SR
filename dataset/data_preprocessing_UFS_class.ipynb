{
 "cells": [
  {
   "cell_type": "code",
   "execution_count": 2,
   "metadata": {},
   "outputs": [],
   "source": [
    "import matplotlib.pyplot as plt\n",
    "import numpy as np\n",
    "import os\n",
    "import cv2\n",
    "from PIL import Image\n",
    "import time\n",
    "import dlib\n",
    "\n",
    "# To compile dlib\n",
    "# sudo apt install -y cmake\n",
    "# pip install dlib\n",
    "\n",
    "from facenet_pytorch import MTCNN, extract_face"
   ]
  },
  {
   "cell_type": "code",
   "execution_count": 11,
   "metadata": {},
   "outputs": [],
   "source": [
    "# MTCNN for gallery images\n",
    "\n",
    "root_data = '/media/angelo/DATEN/Datasets/Dados_TCC_Joao/Material TCC/Classe3/BD/'\n",
    "list_of_students = os.listdir(root_data)\n",
    "\n",
    "mtcnn = MTCNN(keep_all=True)\n",
    "\n",
    "face_database_path = '/media/angelo/DATEN/Datasets/Dados_TCC_Joao/Material TCC/Classe3/Classe/faces_bd/'\n",
    "    \n",
    "if not os.path.exists(face_database_path):\n",
    "    os.mkdir(face_database_path) # Create a folder to save database images\n",
    "\n",
    "for i, student in enumerate(list_of_students):\n",
    "        \n",
    "    student_img = Image.open(root_data + student).resize((224,224))\n",
    "    \n",
    "    begin_counter = time.time()\n",
    "    faces, _ = mtcnn.detect(student_img)\n",
    "    end_counter = time.time()\n",
    "    \n",
    "    #print(\"Seconds for face detection =\", end_counter - begin_counter)\n",
    "    extract_face(student_img, faces[0], image_size=112, margin=0,\n",
    "                     save_path=face_database_path + str(i+1) + '_' + student)"
   ]
  },
  {
   "cell_type": "code",
   "execution_count": 12,
   "metadata": {},
   "outputs": [
    {
     "name": "stdout",
     "output_type": "stream",
     "text": [
      "Seconds for face detection = 0.5510396957397461\n",
      "Number of faces detected in Classe_1: 16\n",
      "Seconds for face detection = 0.5478627681732178\n",
      "Number of faces detected in Classe_2: 16\n",
      "Seconds for face detection = 0.49179792404174805\n",
      "Number of faces detected in Classe_3: 16\n"
     ]
    }
   ],
   "source": [
    "# MTCNN for probe images\n",
    "\n",
    "#root_data = '/media/angelo/DATEN/Datasets/Dataset_UFS_Class/teste/'\n",
    "root_data = '/media/angelo/DATEN/Datasets/Dados_TCC_Joao/Material TCC/Classe3/Classe/WebCam - 1.2MP/'\n",
    "\n",
    "list_of_classes = os.listdir(root_data)\n",
    "\n",
    "mtcnn = MTCNN(keep_all=True)\n",
    "\n",
    "for i, classe in enumerate(list_of_classes):\n",
    "    class_faces_path = root_data + os.path.splitext(classe)[0] + '/'\n",
    "    \n",
    "    if not os.path.exists(class_faces_path):\n",
    "        os.mkdir(class_faces_path) # Create a folder for each class with its detected faces\n",
    "        \n",
    "    class_img = Image.open(root_data + classe)\n",
    "    \n",
    "    begin_counter = time.time()\n",
    "    faces, _ = mtcnn.detect(class_img)\n",
    "    end_counter = time.time()\n",
    "    \n",
    "    print(\"Seconds for face detection =\", end_counter - begin_counter)\n",
    "    \n",
    "    print(\"Number of faces detected in {}: {}\".format(os.path.splitext(classe)[0], len(faces)))\n",
    "    for j, face in enumerate(faces):\n",
    "        extract_face(class_img, face, image_size=112, margin=0,\n",
    "                     save_path=class_faces_path + 'Face_' + str(j+1) + '_Class_' + str(i+1) + '.jpg')"
   ]
  }
 ],
 "metadata": {
  "kernelspec": {
   "display_name": "Python 3",
   "language": "python",
   "name": "python3"
  },
  "language_info": {
   "codemirror_mode": {
    "name": "ipython",
    "version": 3
   },
   "file_extension": ".py",
   "mimetype": "text/x-python",
   "name": "python",
   "nbconvert_exporter": "python",
   "pygments_lexer": "ipython3",
   "version": "3.6.8"
  }
 },
 "nbformat": 4,
 "nbformat_minor": 4
}
