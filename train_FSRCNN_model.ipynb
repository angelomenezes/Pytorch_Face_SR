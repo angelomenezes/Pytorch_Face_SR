{
 "cells": [
  {
   "cell_type": "code",
   "execution_count": 1,
   "metadata": {},
   "outputs": [],
   "source": [
    "from math import log10\n",
    "import matplotlib.pyplot as plt\n",
    "import numpy as np\n",
    "\n",
    "import pandas as pd\n",
    "import os\n",
    "\n",
    "import torch\n",
    "import torch.nn as nn\n",
    "import torch.optim as optim\n",
    "from torch.utils.data import DataLoader\n",
    "from dataset.data_loader_RGB import *\n",
    "from utils.pytorch_ssim import *\n",
    "\n",
    "from models.FSRCNN_model import Net\n",
    "\n",
    "torch.manual_seed(1)\n",
    "device = torch.device(\"cuda\")"
   ]
  },
  {
   "cell_type": "code",
   "execution_count": 2,
   "metadata": {},
   "outputs": [],
   "source": [
    "# FSRCNN parameters\n",
    "\n",
    "batch_size = 32\n",
    "epochs = 50\n",
    "lr = 0.001\n",
    "threads = 4\n",
    "upscale_factor = 4"
   ]
  },
  {
   "cell_type": "code",
   "execution_count": 6,
   "metadata": {},
   "outputs": [],
   "source": [
    "#img_path_low = '/media/angelo/DATEN/Datasets/Experiment_Masters/300W-3D-low-res-56/train'\n",
    "#img_path_ref = '/media/angelo/DATEN/Datasets/Experiment_Masters/300W-3D-low-res-224/train'\n",
    "\n",
    "#img_path_low = '/media/angelo/DATEN/Datasets/CelebA/LR_112/train/'\n",
    "#img_path_ref = '/media/angelo/DATEN/Datasets/CelebA/HR/train/'\n",
    "\n",
    "img_path_low = '../LR_56/train/'\n",
    "img_path_ref = '../HR/train/'\n",
    "\n",
    "train_set = DatasetSuperRes(img_path_low, img_path_ref)\n",
    "training_data_loader = DataLoader(dataset=train_set, num_workers=threads, batch_size=batch_size, shuffle=True)"
   ]
  },
  {
   "cell_type": "code",
   "execution_count": 7,
   "metadata": {},
   "outputs": [
    {
     "name": "stdout",
     "output_type": "stream",
     "text": [
      "===> Building model\n"
     ]
    }
   ],
   "source": [
    "print('===> Building model')\n",
    "model = Net().to(device)\n",
    "model.weight_init(mean=0.0, std=0.2)\n",
    "\n",
    "criterion = nn.MSELoss()\n",
    "\n",
    "optimizer = optim.Adam(model.parameters(), lr=lr, betas=(0.5, 0.999))\n",
    "scheduler = optim.lr_scheduler.StepLR(optimizer, step_size=15, gamma=0.2)"
   ]
  },
  {
   "cell_type": "code",
   "execution_count": 8,
   "metadata": {},
   "outputs": [],
   "source": [
    "out_path = 'results/'\n",
    "out_model_path = 'checkpoints/'\n",
    "\n",
    "if not os.path.exists(out_path):\n",
    "    os.makedirs(out_path)    \n",
    "\n",
    "if not os.path.exists(out_model_path):\n",
    "    os.makedirs(out_model_path)   \n",
    "    \n",
    "results = {'avg_loss': [], 'psnr': [], 'ssim': []}"
   ]
  },
  {
   "cell_type": "code",
   "execution_count": 9,
   "metadata": {},
   "outputs": [],
   "source": [
    "def train(epoch):\n",
    "    epoch_loss = 0\n",
    "    model.train()\n",
    "    for iteration, batch in enumerate(training_data_loader, 1):\n",
    "        input_, target = batch[0].to(device), batch[1].to(device)\n",
    "        \n",
    "        optimizer.zero_grad()\n",
    "        upsampled_img = model(input_)\n",
    "        loss = criterion(upsampled_img, target)\n",
    "        epoch_loss += loss.item()\n",
    "        loss.backward()\n",
    "        optimizer.step()\n",
    "        \n",
    "        #print(\"===> Epoch[{}]({}/{}): Loss: {:.4f}\".format(epoch, iteration, len(training_data_loader), loss.item()))\n",
    "    \n",
    "    scheduler.step() # Decrease learning rate after 15 epochs to 20% of its value\n",
    "    \n",
    "    psnr_epoch = 10*log10(1/(epoch_loss / len(training_data_loader)))\n",
    "    ssim_epoch = ssim(upsampled_img, target).item()\n",
    "    avg_loss_batch = epoch_loss/len(training_data_loader)\n",
    "    \n",
    "    results['psnr'].append(psnr_epoch)\n",
    "    results['ssim'].append(ssim_epoch)\n",
    "    results['avg_loss'].append(avg_loss_batch)\n",
    "    \n",
    "    print(\"===> Epoch {} Complete: Avg. Loss: {:.4f} / PSNR: {:.4f} / SSIM {:.4f}\".format(epoch, \n",
    "                                                                                          avg_loss_batch, \n",
    "                                                                                          psnr_epoch,\n",
    "                                                                                          ssim_epoch))\n",
    "    if epoch % (epochs // 10) == 0:\n",
    "    \n",
    "        data_frame = pd.DataFrame(\n",
    "                data={'Avg. Loss': results['avg_loss'], 'PSNR': results['psnr'], 'SSIM': results['ssim']},\n",
    "                index=range(1, epoch + 1))\n",
    "\n",
    "        data_frame.to_csv(out_path + 'FSRCNN_x' + str(upscale_factor) + '_train_results.csv', index_label='Epoch')\n",
    "        \n",
    "        checkpoint(epoch)\n",
    "    \n",
    "def checkpoint(epoch):\n",
    "    path = out_model_path + \"FSRCNN_x{}_epoch_{}.pth\".format(upscale_factor, epoch)\n",
    "    torch.save(model, path)\n",
    "    print(\"Checkpoint saved to {}\".format(path))"
   ]
  },
  {
   "cell_type": "code",
   "execution_count": 10,
   "metadata": {
    "scrolled": true
   },
   "outputs": [
    {
     "name": "stdout",
     "output_type": "stream",
     "text": [
      "===> Epoch 1 Complete: Avg. Loss: 0.0143 / PSNR: 18.4558 / SSIM 0.7331\n",
      "===> Epoch 2 Complete: Avg. Loss: 0.0051 / PSNR: 22.9456 / SSIM 0.7703\n",
      "===> Epoch 3 Complete: Avg. Loss: 0.0037 / PSNR: 24.3568 / SSIM 0.7717\n",
      "===> Epoch 4 Complete: Avg. Loss: 0.0034 / PSNR: 24.6761 / SSIM 0.7860\n",
      "===> Epoch 5 Complete: Avg. Loss: 0.0032 / PSNR: 24.9615 / SSIM 0.7678\n",
      "Checkpoint saved to checkpoints/FSRCNN_x2_epoch_5.pth\n",
      "===> Epoch 6 Complete: Avg. Loss: 0.0031 / PSNR: 25.0732 / SSIM 0.7891\n",
      "===> Epoch 7 Complete: Avg. Loss: 0.0030 / PSNR: 25.1762 / SSIM 0.7911\n",
      "===> Epoch 8 Complete: Avg. Loss: 0.0029 / PSNR: 25.3187 / SSIM 0.7882\n",
      "===> Epoch 9 Complete: Avg. Loss: 0.0029 / PSNR: 25.3946 / SSIM 0.7799\n",
      "===> Epoch 10 Complete: Avg. Loss: 0.0028 / PSNR: 25.4616 / SSIM 0.7845\n",
      "Checkpoint saved to checkpoints/FSRCNN_x2_epoch_10.pth\n",
      "===> Epoch 11 Complete: Avg. Loss: 0.0028 / PSNR: 25.4943 / SSIM 0.7585\n",
      "===> Epoch 12 Complete: Avg. Loss: 0.0027 / PSNR: 25.7472 / SSIM 0.8073\n",
      "===> Epoch 13 Complete: Avg. Loss: 0.0026 / PSNR: 25.8083 / SSIM 0.8102\n",
      "===> Epoch 14 Complete: Avg. Loss: 0.0026 / PSNR: 25.8559 / SSIM 0.7903\n",
      "===> Epoch 15 Complete: Avg. Loss: 0.0025 / PSNR: 25.9827 / SSIM 0.7923\n",
      "Checkpoint saved to checkpoints/FSRCNN_x2_epoch_15.pth\n",
      "===> Epoch 16 Complete: Avg. Loss: 0.0023 / PSNR: 26.3284 / SSIM 0.8031\n",
      "===> Epoch 17 Complete: Avg. Loss: 0.0023 / PSNR: 26.3428 / SSIM 0.7842\n",
      "===> Epoch 18 Complete: Avg. Loss: 0.0023 / PSNR: 26.3539 / SSIM 0.8035\n",
      "===> Epoch 19 Complete: Avg. Loss: 0.0023 / PSNR: 26.3638 / SSIM 0.7896\n",
      "===> Epoch 20 Complete: Avg. Loss: 0.0023 / PSNR: 26.3723 / SSIM 0.7817\n",
      "Checkpoint saved to checkpoints/FSRCNN_x2_epoch_20.pth\n",
      "===> Epoch 21 Complete: Avg. Loss: 0.0023 / PSNR: 26.3747 / SSIM 0.8013\n",
      "===> Epoch 22 Complete: Avg. Loss: 0.0023 / PSNR: 26.3829 / SSIM 0.8174\n",
      "===> Epoch 23 Complete: Avg. Loss: 0.0023 / PSNR: 26.3921 / SSIM 0.8070\n",
      "===> Epoch 24 Complete: Avg. Loss: 0.0023 / PSNR: 26.4046 / SSIM 0.7960\n",
      "===> Epoch 25 Complete: Avg. Loss: 0.0023 / PSNR: 26.4117 / SSIM 0.7966\n",
      "Checkpoint saved to checkpoints/FSRCNN_x2_epoch_25.pth\n",
      "===> Epoch 26 Complete: Avg. Loss: 0.0023 / PSNR: 26.4229 / SSIM 0.7906\n",
      "===> Epoch 27 Complete: Avg. Loss: 0.0023 / PSNR: 26.4268 / SSIM 0.7900\n",
      "===> Epoch 28 Complete: Avg. Loss: 0.0023 / PSNR: 26.4370 / SSIM 0.7947\n",
      "===> Epoch 29 Complete: Avg. Loss: 0.0023 / PSNR: 26.4422 / SSIM 0.7883\n",
      "===> Epoch 30 Complete: Avg. Loss: 0.0023 / PSNR: 26.4508 / SSIM 0.8109\n",
      "Checkpoint saved to checkpoints/FSRCNN_x2_epoch_30.pth\n",
      "===> Epoch 31 Complete: Avg. Loss: 0.0022 / PSNR: 26.4860 / SSIM 0.8047\n",
      "===> Epoch 32 Complete: Avg. Loss: 0.0022 / PSNR: 26.4873 / SSIM 0.8042\n",
      "===> Epoch 33 Complete: Avg. Loss: 0.0022 / PSNR: 26.4887 / SSIM 0.8042\n",
      "===> Epoch 34 Complete: Avg. Loss: 0.0022 / PSNR: 26.4903 / SSIM 0.7967\n",
      "===> Epoch 35 Complete: Avg. Loss: 0.0022 / PSNR: 26.4920 / SSIM 0.8002\n",
      "Checkpoint saved to checkpoints/FSRCNN_x2_epoch_35.pth\n",
      "===> Epoch 36 Complete: Avg. Loss: 0.0022 / PSNR: 26.4943 / SSIM 0.8271\n",
      "===> Epoch 37 Complete: Avg. Loss: 0.0022 / PSNR: 26.4962 / SSIM 0.7998\n",
      "===> Epoch 38 Complete: Avg. Loss: 0.0022 / PSNR: 26.4983 / SSIM 0.8078\n",
      "===> Epoch 39 Complete: Avg. Loss: 0.0022 / PSNR: 26.5007 / SSIM 0.7975\n",
      "===> Epoch 40 Complete: Avg. Loss: 0.0022 / PSNR: 26.5022 / SSIM 0.7847\n",
      "Checkpoint saved to checkpoints/FSRCNN_x2_epoch_40.pth\n",
      "===> Epoch 41 Complete: Avg. Loss: 0.0022 / PSNR: 26.5047 / SSIM 0.8115\n",
      "===> Epoch 42 Complete: Avg. Loss: 0.0022 / PSNR: 26.5063 / SSIM 0.7936\n",
      "===> Epoch 43 Complete: Avg. Loss: 0.0022 / PSNR: 26.5083 / SSIM 0.7957\n",
      "===> Epoch 44 Complete: Avg. Loss: 0.0022 / PSNR: 26.5108 / SSIM 0.8292\n",
      "===> Epoch 45 Complete: Avg. Loss: 0.0022 / PSNR: 26.5126 / SSIM 0.8045\n",
      "Checkpoint saved to checkpoints/FSRCNN_x2_epoch_45.pth\n",
      "===> Epoch 46 Complete: Avg. Loss: 0.0022 / PSNR: 26.5177 / SSIM 0.8115\n",
      "===> Epoch 47 Complete: Avg. Loss: 0.0022 / PSNR: 26.5178 / SSIM 0.7855\n",
      "===> Epoch 48 Complete: Avg. Loss: 0.0022 / PSNR: 26.5184 / SSIM 0.8155\n",
      "===> Epoch 49 Complete: Avg. Loss: 0.0022 / PSNR: 26.5188 / SSIM 0.8124\n",
      "===> Epoch 50 Complete: Avg. Loss: 0.0022 / PSNR: 26.5194 / SSIM 0.8349\n",
      "Checkpoint saved to checkpoints/FSRCNN_x2_epoch_50.pth\n"
     ]
    }
   ],
   "source": [
    "#epochs=10\n",
    "#optimizer.param_groups[0]['lr'] = 0.001\n",
    "\n",
    "for epoch in range(1, epochs+1):\n",
    "    train(epoch)"
   ]
  }
 ],
 "metadata": {
  "kernelspec": {
   "display_name": "Python 3",
   "language": "python",
   "name": "python3"
  },
  "language_info": {
   "codemirror_mode": {
    "name": "ipython",
    "version": 3
   },
   "file_extension": ".py",
   "mimetype": "text/x-python",
   "name": "python",
   "nbconvert_exporter": "python",
   "pygments_lexer": "ipython3",
   "version": "3.6.8"
  }
 },
 "nbformat": 4,
 "nbformat_minor": 4
}
